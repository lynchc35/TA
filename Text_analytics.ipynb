{
  "nbformat": 4,
  "nbformat_minor": 0,
  "metadata": {
    "colab": {
      "name": "Text analytics.ipynb",
      "provenance": []
    },
    "kernelspec": {
      "display_name": "Python 3",
      "name": "python3"
    },
    "language_info": {
      "name": "python"
    }
  },
  "cells": [
    {
      "cell_type": "code",
      "metadata": {
        "colab": {
          "base_uri": "https://localhost:8080/"
        },
        "id": "uSc43_UwndWe",
        "outputId": "484b8fa3-135e-4d27-8f36-50a466ab3454"
      },
      "source": [
        "import numpy as np # linear algebra\n",
        "import pandas as pd # data processing, CSV file I/O (e.g. pd.read_csv)\n",
        "import matplotlib.pyplot as plt # Python defacto plotting library\n",
        "%matplotlib inline \n",
        "import nltk\n",
        "from nltk import pos_tag \n",
        "nltk.download('averaged_perceptron_tagger')"
      ],
      "execution_count": null,
      "outputs": [
        {
          "output_type": "stream",
          "text": [
            "[nltk_data] Downloading package averaged_perceptron_tagger to\n",
            "[nltk_data]     /root/nltk_data...\n",
            "[nltk_data]   Unzipping taggers/averaged_perceptron_tagger.zip.\n"
          ],
          "name": "stdout"
        },
        {
          "output_type": "execute_result",
          "data": {
            "text/plain": [
              "True"
            ]
          },
          "metadata": {
            "tags": []
          },
          "execution_count": 1
        }
      ]
    },
    {
      "cell_type": "code",
      "metadata": {
        "id": "UVrR1GGrq-At"
      },
      "source": [
        "fake = pd.read_csv('Fake.csv')\n",
        "true = pd.read_csv('True.csv')"
      ],
      "execution_count": null,
      "outputs": []
    },
    {
      "cell_type": "code",
      "metadata": {
        "colab": {
          "base_uri": "https://localhost:8080/",
          "height": 204
        },
        "id": "P6sI2qvjrX0-",
        "outputId": "d1ec4ae6-320c-464f-922c-356ace256a0d"
      },
      "source": [
        "fake.head(5)"
      ],
      "execution_count": null,
      "outputs": [
        {
          "output_type": "execute_result",
          "data": {
            "text/html": [
              "<div>\n",
              "<style scoped>\n",
              "    .dataframe tbody tr th:only-of-type {\n",
              "        vertical-align: middle;\n",
              "    }\n",
              "\n",
              "    .dataframe tbody tr th {\n",
              "        vertical-align: top;\n",
              "    }\n",
              "\n",
              "    .dataframe thead th {\n",
              "        text-align: right;\n",
              "    }\n",
              "</style>\n",
              "<table border=\"1\" class=\"dataframe\">\n",
              "  <thead>\n",
              "    <tr style=\"text-align: right;\">\n",
              "      <th></th>\n",
              "      <th>title</th>\n",
              "      <th>text</th>\n",
              "      <th>subject</th>\n",
              "      <th>date</th>\n",
              "    </tr>\n",
              "  </thead>\n",
              "  <tbody>\n",
              "    <tr>\n",
              "      <th>0</th>\n",
              "      <td>Donald Trump Sends Out Embarrassing New Year’...</td>\n",
              "      <td>Donald Trump just couldn t wish all Americans ...</td>\n",
              "      <td>News</td>\n",
              "      <td>December 31, 2017</td>\n",
              "    </tr>\n",
              "    <tr>\n",
              "      <th>1</th>\n",
              "      <td>Drunk Bragging Trump Staffer Started Russian ...</td>\n",
              "      <td>House Intelligence Committee Chairman Devin Nu...</td>\n",
              "      <td>News</td>\n",
              "      <td>December 31, 2017</td>\n",
              "    </tr>\n",
              "    <tr>\n",
              "      <th>2</th>\n",
              "      <td>Sheriff David Clarke Becomes An Internet Joke...</td>\n",
              "      <td>On Friday, it was revealed that former Milwauk...</td>\n",
              "      <td>News</td>\n",
              "      <td>December 30, 2017</td>\n",
              "    </tr>\n",
              "    <tr>\n",
              "      <th>3</th>\n",
              "      <td>Trump Is So Obsessed He Even Has Obama’s Name...</td>\n",
              "      <td>On Christmas day, Donald Trump announced that ...</td>\n",
              "      <td>News</td>\n",
              "      <td>December 29, 2017</td>\n",
              "    </tr>\n",
              "    <tr>\n",
              "      <th>4</th>\n",
              "      <td>Pope Francis Just Called Out Donald Trump Dur...</td>\n",
              "      <td>Pope Francis used his annual Christmas Day mes...</td>\n",
              "      <td>News</td>\n",
              "      <td>December 25, 2017</td>\n",
              "    </tr>\n",
              "  </tbody>\n",
              "</table>\n",
              "</div>"
            ],
            "text/plain": [
              "                                               title  ...               date\n",
              "0   Donald Trump Sends Out Embarrassing New Year’...  ...  December 31, 2017\n",
              "1   Drunk Bragging Trump Staffer Started Russian ...  ...  December 31, 2017\n",
              "2   Sheriff David Clarke Becomes An Internet Joke...  ...  December 30, 2017\n",
              "3   Trump Is So Obsessed He Even Has Obama’s Name...  ...  December 29, 2017\n",
              "4   Pope Francis Just Called Out Donald Trump Dur...  ...  December 25, 2017\n",
              "\n",
              "[5 rows x 4 columns]"
            ]
          },
          "metadata": {
            "tags": []
          },
          "execution_count": 3
        }
      ]
    },
    {
      "cell_type": "code",
      "metadata": {
        "id": "3k5IVU05rMaD"
      },
      "source": [
        "tagged_fake_news_title = fake['title'].str.split().map(pos_tag) \n",
        "tagged_true_news_title = true['title'].str.split().map(pos_tag) \n"
      ],
      "execution_count": null,
      "outputs": []
    },
    {
      "cell_type": "code",
      "metadata": {
        "id": "iJgTNpRGr43x",
        "colab": {
          "base_uri": "https://localhost:8080/",
          "height": 357
        },
        "outputId": "17bb42fc-6299-432c-c605-8b4d453ae1d0"
      },
      "source": [
        "tagged_fake_news_text = fake['text'].str.split().map(pos_tag) \n",
        "tagged_true_news_text= true['text'].str.split().map(pos_tag) \n"
      ],
      "execution_count": null,
      "outputs": [
        {
          "output_type": "error",
          "ename": "KeyboardInterrupt",
          "evalue": "ignored",
          "traceback": [
            "\u001b[0;31m---------------------------------------------------------------------------\u001b[0m",
            "\u001b[0;31mKeyboardInterrupt\u001b[0m                         Traceback (most recent call last)",
            "\u001b[0;32m<ipython-input-5-e2eb03306dfe>\u001b[0m in \u001b[0;36m<module>\u001b[0;34m()\u001b[0m\n\u001b[1;32m      1\u001b[0m \u001b[0mtagged_fake_news_text\u001b[0m \u001b[0;34m=\u001b[0m \u001b[0mfake\u001b[0m\u001b[0;34m[\u001b[0m\u001b[0;34m'text'\u001b[0m\u001b[0;34m]\u001b[0m\u001b[0;34m.\u001b[0m\u001b[0mstr\u001b[0m\u001b[0;34m.\u001b[0m\u001b[0msplit\u001b[0m\u001b[0;34m(\u001b[0m\u001b[0;34m)\u001b[0m\u001b[0;34m.\u001b[0m\u001b[0mmap\u001b[0m\u001b[0;34m(\u001b[0m\u001b[0mpos_tag\u001b[0m\u001b[0;34m)\u001b[0m\u001b[0;34m\u001b[0m\u001b[0;34m\u001b[0m\u001b[0m\n\u001b[0;32m----> 2\u001b[0;31m \u001b[0mtagged_true_news_text\u001b[0m\u001b[0;34m=\u001b[0m \u001b[0mtrue\u001b[0m\u001b[0;34m[\u001b[0m\u001b[0;34m'text'\u001b[0m\u001b[0;34m]\u001b[0m\u001b[0;34m.\u001b[0m\u001b[0mstr\u001b[0m\u001b[0;34m.\u001b[0m\u001b[0msplit\u001b[0m\u001b[0;34m(\u001b[0m\u001b[0;34m)\u001b[0m\u001b[0;34m.\u001b[0m\u001b[0mmap\u001b[0m\u001b[0;34m(\u001b[0m\u001b[0mpos_tag\u001b[0m\u001b[0;34m)\u001b[0m\u001b[0;34m\u001b[0m\u001b[0;34m\u001b[0m\u001b[0m\n\u001b[0m",
            "\u001b[0;32m/usr/local/lib/python3.7/dist-packages/pandas/core/series.py\u001b[0m in \u001b[0;36mmap\u001b[0;34m(self, arg, na_action)\u001b[0m\n\u001b[1;32m   3981\u001b[0m         \u001b[0mdtype\u001b[0m\u001b[0;34m:\u001b[0m \u001b[0mobject\u001b[0m\u001b[0;34m\u001b[0m\u001b[0;34m\u001b[0m\u001b[0m\n\u001b[1;32m   3982\u001b[0m         \"\"\"\n\u001b[0;32m-> 3983\u001b[0;31m         \u001b[0mnew_values\u001b[0m \u001b[0;34m=\u001b[0m \u001b[0msuper\u001b[0m\u001b[0;34m(\u001b[0m\u001b[0;34m)\u001b[0m\u001b[0;34m.\u001b[0m\u001b[0m_map_values\u001b[0m\u001b[0;34m(\u001b[0m\u001b[0marg\u001b[0m\u001b[0;34m,\u001b[0m \u001b[0mna_action\u001b[0m\u001b[0;34m=\u001b[0m\u001b[0mna_action\u001b[0m\u001b[0;34m)\u001b[0m\u001b[0;34m\u001b[0m\u001b[0;34m\u001b[0m\u001b[0m\n\u001b[0m\u001b[1;32m   3984\u001b[0m         return self._constructor(new_values, index=self.index).__finalize__(\n\u001b[1;32m   3985\u001b[0m             \u001b[0mself\u001b[0m\u001b[0;34m,\u001b[0m \u001b[0mmethod\u001b[0m\u001b[0;34m=\u001b[0m\u001b[0;34m\"map\"\u001b[0m\u001b[0;34m\u001b[0m\u001b[0;34m\u001b[0m\u001b[0m\n",
            "\u001b[0;32m/usr/local/lib/python3.7/dist-packages/pandas/core/base.py\u001b[0m in \u001b[0;36m_map_values\u001b[0;34m(self, mapper, na_action)\u001b[0m\n\u001b[1;32m   1158\u001b[0m \u001b[0;34m\u001b[0m\u001b[0m\n\u001b[1;32m   1159\u001b[0m         \u001b[0;31m# mapper is a function\u001b[0m\u001b[0;34m\u001b[0m\u001b[0;34m\u001b[0m\u001b[0;34m\u001b[0m\u001b[0m\n\u001b[0;32m-> 1160\u001b[0;31m         \u001b[0mnew_values\u001b[0m \u001b[0;34m=\u001b[0m \u001b[0mmap_f\u001b[0m\u001b[0;34m(\u001b[0m\u001b[0mvalues\u001b[0m\u001b[0;34m,\u001b[0m \u001b[0mmapper\u001b[0m\u001b[0;34m)\u001b[0m\u001b[0;34m\u001b[0m\u001b[0;34m\u001b[0m\u001b[0m\n\u001b[0m\u001b[1;32m   1161\u001b[0m \u001b[0;34m\u001b[0m\u001b[0m\n\u001b[1;32m   1162\u001b[0m         \u001b[0;32mreturn\u001b[0m \u001b[0mnew_values\u001b[0m\u001b[0;34m\u001b[0m\u001b[0;34m\u001b[0m\u001b[0m\n",
            "\u001b[0;32mpandas/_libs/lib.pyx\u001b[0m in \u001b[0;36mpandas._libs.lib.map_infer\u001b[0;34m()\u001b[0m\n",
            "\u001b[0;32m/usr/local/lib/python3.7/dist-packages/nltk/tag/__init__.py\u001b[0m in \u001b[0;36mpos_tag\u001b[0;34m(tokens, tagset, lang)\u001b[0m\n\u001b[1;32m    132\u001b[0m     \"\"\"\n\u001b[1;32m    133\u001b[0m     \u001b[0mtagger\u001b[0m \u001b[0;34m=\u001b[0m \u001b[0m_get_tagger\u001b[0m\u001b[0;34m(\u001b[0m\u001b[0mlang\u001b[0m\u001b[0;34m)\u001b[0m\u001b[0;34m\u001b[0m\u001b[0;34m\u001b[0m\u001b[0m\n\u001b[0;32m--> 134\u001b[0;31m     \u001b[0;32mreturn\u001b[0m \u001b[0m_pos_tag\u001b[0m\u001b[0;34m(\u001b[0m\u001b[0mtokens\u001b[0m\u001b[0;34m,\u001b[0m \u001b[0mtagset\u001b[0m\u001b[0;34m,\u001b[0m \u001b[0mtagger\u001b[0m\u001b[0;34m)\u001b[0m\u001b[0;34m\u001b[0m\u001b[0;34m\u001b[0m\u001b[0m\n\u001b[0m\u001b[1;32m    135\u001b[0m \u001b[0;34m\u001b[0m\u001b[0m\n\u001b[1;32m    136\u001b[0m \u001b[0;34m\u001b[0m\u001b[0m\n",
            "\u001b[0;32m/usr/local/lib/python3.7/dist-packages/nltk/tag/__init__.py\u001b[0m in \u001b[0;36m_pos_tag\u001b[0;34m(tokens, tagset, tagger)\u001b[0m\n\u001b[1;32m    100\u001b[0m \u001b[0;34m\u001b[0m\u001b[0m\n\u001b[1;32m    101\u001b[0m \u001b[0;32mdef\u001b[0m \u001b[0m_pos_tag\u001b[0m\u001b[0;34m(\u001b[0m\u001b[0mtokens\u001b[0m\u001b[0;34m,\u001b[0m \u001b[0mtagset\u001b[0m\u001b[0;34m,\u001b[0m \u001b[0mtagger\u001b[0m\u001b[0;34m)\u001b[0m\u001b[0;34m:\u001b[0m\u001b[0;34m\u001b[0m\u001b[0;34m\u001b[0m\u001b[0m\n\u001b[0;32m--> 102\u001b[0;31m     \u001b[0mtagged_tokens\u001b[0m \u001b[0;34m=\u001b[0m \u001b[0mtagger\u001b[0m\u001b[0;34m.\u001b[0m\u001b[0mtag\u001b[0m\u001b[0;34m(\u001b[0m\u001b[0mtokens\u001b[0m\u001b[0;34m)\u001b[0m\u001b[0;34m\u001b[0m\u001b[0;34m\u001b[0m\u001b[0m\n\u001b[0m\u001b[1;32m    103\u001b[0m     \u001b[0;32mif\u001b[0m \u001b[0mtagset\u001b[0m\u001b[0;34m:\u001b[0m\u001b[0;34m\u001b[0m\u001b[0;34m\u001b[0m\u001b[0m\n\u001b[1;32m    104\u001b[0m         \u001b[0mtagged_tokens\u001b[0m \u001b[0;34m=\u001b[0m \u001b[0;34m[\u001b[0m\u001b[0;34m(\u001b[0m\u001b[0mtoken\u001b[0m\u001b[0;34m,\u001b[0m \u001b[0mmap_tag\u001b[0m\u001b[0;34m(\u001b[0m\u001b[0;34m'en-ptb'\u001b[0m\u001b[0;34m,\u001b[0m \u001b[0mtagset\u001b[0m\u001b[0;34m,\u001b[0m \u001b[0mtag\u001b[0m\u001b[0;34m)\u001b[0m\u001b[0;34m)\u001b[0m \u001b[0;32mfor\u001b[0m \u001b[0;34m(\u001b[0m\u001b[0mtoken\u001b[0m\u001b[0;34m,\u001b[0m \u001b[0mtag\u001b[0m\u001b[0;34m)\u001b[0m \u001b[0;32min\u001b[0m \u001b[0mtagged_tokens\u001b[0m\u001b[0;34m]\u001b[0m\u001b[0;34m\u001b[0m\u001b[0;34m\u001b[0m\u001b[0m\n",
            "\u001b[0;32m/usr/local/lib/python3.7/dist-packages/nltk/tag/perceptron.py\u001b[0m in \u001b[0;36mtag\u001b[0;34m(self, tokens)\u001b[0m\n\u001b[1;32m    155\u001b[0m             \u001b[0;32mif\u001b[0m \u001b[0;32mnot\u001b[0m \u001b[0mtag\u001b[0m\u001b[0;34m:\u001b[0m\u001b[0;34m\u001b[0m\u001b[0;34m\u001b[0m\u001b[0m\n\u001b[1;32m    156\u001b[0m                 \u001b[0mfeatures\u001b[0m \u001b[0;34m=\u001b[0m \u001b[0mself\u001b[0m\u001b[0;34m.\u001b[0m\u001b[0m_get_features\u001b[0m\u001b[0;34m(\u001b[0m\u001b[0mi\u001b[0m\u001b[0;34m,\u001b[0m \u001b[0mword\u001b[0m\u001b[0;34m,\u001b[0m \u001b[0mcontext\u001b[0m\u001b[0;34m,\u001b[0m \u001b[0mprev\u001b[0m\u001b[0;34m,\u001b[0m \u001b[0mprev2\u001b[0m\u001b[0;34m)\u001b[0m\u001b[0;34m\u001b[0m\u001b[0;34m\u001b[0m\u001b[0m\n\u001b[0;32m--> 157\u001b[0;31m                 \u001b[0mtag\u001b[0m \u001b[0;34m=\u001b[0m \u001b[0mself\u001b[0m\u001b[0;34m.\u001b[0m\u001b[0mmodel\u001b[0m\u001b[0;34m.\u001b[0m\u001b[0mpredict\u001b[0m\u001b[0;34m(\u001b[0m\u001b[0mfeatures\u001b[0m\u001b[0;34m)\u001b[0m\u001b[0;34m\u001b[0m\u001b[0;34m\u001b[0m\u001b[0m\n\u001b[0m\u001b[1;32m    158\u001b[0m             \u001b[0moutput\u001b[0m\u001b[0;34m.\u001b[0m\u001b[0mappend\u001b[0m\u001b[0;34m(\u001b[0m\u001b[0;34m(\u001b[0m\u001b[0mword\u001b[0m\u001b[0;34m,\u001b[0m \u001b[0mtag\u001b[0m\u001b[0;34m)\u001b[0m\u001b[0;34m)\u001b[0m\u001b[0;34m\u001b[0m\u001b[0;34m\u001b[0m\u001b[0m\n\u001b[1;32m    159\u001b[0m             \u001b[0mprev2\u001b[0m \u001b[0;34m=\u001b[0m \u001b[0mprev\u001b[0m\u001b[0;34m\u001b[0m\u001b[0;34m\u001b[0m\u001b[0m\n",
            "\u001b[0;32m/usr/local/lib/python3.7/dist-packages/nltk/tag/perceptron.py\u001b[0m in \u001b[0;36mpredict\u001b[0;34m(self, features)\u001b[0m\n\u001b[1;32m     54\u001b[0m             \u001b[0mweights\u001b[0m \u001b[0;34m=\u001b[0m \u001b[0mself\u001b[0m\u001b[0;34m.\u001b[0m\u001b[0mweights\u001b[0m\u001b[0;34m[\u001b[0m\u001b[0mfeat\u001b[0m\u001b[0;34m]\u001b[0m\u001b[0;34m\u001b[0m\u001b[0;34m\u001b[0m\u001b[0m\n\u001b[1;32m     55\u001b[0m             \u001b[0;32mfor\u001b[0m \u001b[0mlabel\u001b[0m\u001b[0;34m,\u001b[0m \u001b[0mweight\u001b[0m \u001b[0;32min\u001b[0m \u001b[0mweights\u001b[0m\u001b[0;34m.\u001b[0m\u001b[0mitems\u001b[0m\u001b[0;34m(\u001b[0m\u001b[0;34m)\u001b[0m\u001b[0;34m:\u001b[0m\u001b[0;34m\u001b[0m\u001b[0;34m\u001b[0m\u001b[0m\n\u001b[0;32m---> 56\u001b[0;31m                 \u001b[0mscores\u001b[0m\u001b[0;34m[\u001b[0m\u001b[0mlabel\u001b[0m\u001b[0;34m]\u001b[0m \u001b[0;34m+=\u001b[0m \u001b[0mvalue\u001b[0m \u001b[0;34m*\u001b[0m \u001b[0mweight\u001b[0m\u001b[0;34m\u001b[0m\u001b[0;34m\u001b[0m\u001b[0m\n\u001b[0m\u001b[1;32m     57\u001b[0m         \u001b[0;31m# Do a secondary alphabetic sort, for stability\u001b[0m\u001b[0;34m\u001b[0m\u001b[0;34m\u001b[0m\u001b[0;34m\u001b[0m\u001b[0m\n\u001b[1;32m     58\u001b[0m         \u001b[0;32mreturn\u001b[0m \u001b[0mmax\u001b[0m\u001b[0;34m(\u001b[0m\u001b[0mself\u001b[0m\u001b[0;34m.\u001b[0m\u001b[0mclasses\u001b[0m\u001b[0;34m,\u001b[0m \u001b[0mkey\u001b[0m\u001b[0;34m=\u001b[0m\u001b[0;32mlambda\u001b[0m \u001b[0mlabel\u001b[0m\u001b[0;34m:\u001b[0m \u001b[0;34m(\u001b[0m\u001b[0mscores\u001b[0m\u001b[0;34m[\u001b[0m\u001b[0mlabel\u001b[0m\u001b[0;34m]\u001b[0m\u001b[0;34m,\u001b[0m \u001b[0mlabel\u001b[0m\u001b[0;34m)\u001b[0m\u001b[0;34m)\u001b[0m\u001b[0;34m\u001b[0m\u001b[0;34m\u001b[0m\u001b[0m\n",
            "\u001b[0;31mKeyboardInterrupt\u001b[0m: "
          ]
        }
      ]
    },
    {
      "cell_type": "code",
      "metadata": {
        "colab": {
          "base_uri": "https://localhost:8080/"
        },
        "id": "cMQkksWesD0V",
        "outputId": "fe255751-bb6c-40a5-df77-9963dddfceda"
      },
      "source": [
        "tagged_fake_news_title"
      ],
      "execution_count": null,
      "outputs": [
        {
          "output_type": "execute_result",
          "data": {
            "text/plain": [
              "0        [(Donald, NNP), (Trump, NNP), (Sends, VBZ), (O...\n",
              "1        [(Drunk, NNP), (Bragging, NNP), (Trump, NNP), ...\n",
              "2        [(Sheriff, NN), (David, NNP), (Clarke, NNP), (...\n",
              "3        [(Trump, NNP), (Is, VBZ), (So, RB), (Obsessed,...\n",
              "4        [(Pope, NNP), (Francis, NNP), (Just, NNP), (Ca...\n",
              "                               ...                        \n",
              "23476    [(McPain:, NNP), (John, NNP), (McCain, NNP), (...\n",
              "23477    [(JUSTICE?, NNP), (Yahoo, NNP), (Settles, NNP)...\n",
              "23478    [(Sunnistan:, NNP), (US, NNP), (and, CC), (All...\n",
              "23479    [(How, WRB), (to, TO), (Blow, VB), ($700, NNP)...\n",
              "23480    [(10, CD), (U.S., NNP), (Navy, NNP), (Sailors,...\n",
              "Name: title, Length: 23481, dtype: object"
            ]
          },
          "metadata": {
            "tags": []
          },
          "execution_count": 6
        }
      ]
    },
    {
      "cell_type": "code",
      "metadata": {
        "colab": {
          "base_uri": "https://localhost:8080/"
        },
        "id": "dV86lBT5wOwo",
        "outputId": "0433c95e-d62f-4d64-8eba-8bbd16d9bc6d"
      },
      "source": [
        "def count_tags(title_with_tags):\n",
        "    tag_count = {}\n",
        "    for word, tag in title_with_tags:\n",
        "        if tag in tag_count:\n",
        "            tag_count[tag] += 1\n",
        "        else:\n",
        "            tag_count[tag] = 1\n",
        "    return(tag_count)\n",
        "tagged_fake_news_title.map(count_tags).head()\n"
      ],
      "execution_count": null,
      "outputs": [
        {
          "output_type": "execute_result",
          "data": {
            "text/plain": [
              "0     {'NNP': 6, 'VBZ': 2, 'RP': 1, 'VBG': 2, 'DT': 1}\n",
              "1                                           {'NNP': 8}\n",
              "2    {'NN': 1, 'NNP': 8, 'DT': 2, 'IN': 1, 'VBG': 1...\n",
              "3    {'NNP': 5, 'VBZ': 2, 'RB': 2, 'JJ': 1, 'PRP': ...\n",
              "4    {'NNP': 7, 'VBD': 1, 'RP': 1, 'IN': 1, 'PRP$': 1}\n",
              "Name: title, dtype: object"
            ]
          },
          "metadata": {
            "tags": []
          },
          "execution_count": 7
        }
      ]
    },
    {
      "cell_type": "code",
      "metadata": {
        "colab": {
          "base_uri": "https://localhost:8080/"
        },
        "id": "LBK-02XBwaHm",
        "outputId": "0b8c8a84-a2d4-47a5-e6d7-8a8795d00a68"
      },
      "source": [
        "tagged_true_news_title.map(count_tags).head()"
      ],
      "execution_count": null,
      "outputs": [
        {
          "output_type": "execute_result",
          "data": {
            "text/plain": [
              "0    {'IN': 1, 'NNP': 1, 'NN': 4, 'NNPS': 1, 'VBP':...\n",
              "1    {'NNP': 3, 'JJ': 1, 'TO': 1, 'VB': 1, 'NN': 1,...\n",
              "2    {'JJ': 1, 'NNP': 4, 'NN': 2, 'POS': 1, 'VB': 1...\n",
              "3      {'NNP': 3, 'NN': 2, 'VBD': 1, 'IN': 1, 'JJ': 2}\n",
              "4    {'NN': 2, 'VBZ': 1, 'NNP': 3, 'TO': 1, 'VB': 1...\n",
              "Name: title, dtype: object"
            ]
          },
          "metadata": {
            "tags": []
          },
          "execution_count": 8
        }
      ]
    },
    {
      "cell_type": "code",
      "metadata": {
        "colab": {
          "base_uri": "https://localhost:8080/"
        },
        "id": "wANuu6J6wd1i",
        "outputId": "3618961e-0561-4ef3-c6e1-72cdec640afd"
      },
      "source": [
        "tagged_fake_news_text.map(count_tags).head()"
      ],
      "execution_count": null,
      "outputs": [
        {
          "output_type": "execute_result",
          "data": {
            "text/plain": [
              "0    {'NNP': 98, 'RB': 32, 'VB': 24, 'JJ': 36, 'DT'...\n",
              "1    {'NNP': 59, 'VBZ': 8, 'VBG': 10, 'TO': 9, 'VB'...\n",
              "2    {'IN': 57, 'NNP': 110, 'PRP': 36, 'VBD': 18, '...\n",
              "3    {'IN': 40, 'NNP': 67, 'NN': 85, 'VBD': 12, 'PR...\n",
              "4    {'NNP': 47, 'VBD': 18, 'PRP$': 14, 'JJ': 21, '...\n",
              "Name: text, dtype: object"
            ]
          },
          "metadata": {
            "tags": []
          },
          "execution_count": 10
        }
      ]
    },
    {
      "cell_type": "code",
      "metadata": {
        "colab": {
          "base_uri": "https://localhost:8080/"
        },
        "id": "SaEu8zqgwpgr",
        "outputId": "9085f402-e1bc-4cf1-bb41-8ad002821883"
      },
      "source": [
        "tagged_true_news_text.map(count_tags).head()"
      ],
      "execution_count": null,
      "outputs": [
        {
          "output_type": "execute_result",
          "data": {
            "text/plain": [
              "0    {'NNP': 95, ':': 4, 'DT': 67, 'NN': 120, 'IN':...\n",
              "1    {'NNP': 79, ':': 3, 'NN': 101, 'NNS': 37, 'MD'...\n",
              "2    {'NNP': 81, ':': 1, 'DT': 47, 'JJ': 30, 'NN': ...\n",
              "3    {'NNP': 75, ':': 1, 'NN': 54, 'VBD': 25, 'DT':...\n",
              "4    {'NNP': 122, ':': 1, 'VBD': 24, 'IN': 112, 'DT...\n",
              "Name: text, dtype: object"
            ]
          },
          "metadata": {
            "tags": []
          },
          "execution_count": 11
        }
      ]
    },
    {
      "cell_type": "code",
      "metadata": {
        "colab": {
          "base_uri": "https://localhost:8080/"
        },
        "id": "GLI7B-f6wt9X",
        "outputId": "13b22d4f-75e5-4737-a76d-7f704df822f1"
      },
      "source": [
        "tagged_true_news_title = pd.DataFrame(tagged_true_news_title)\n",
        "tagged_true_news_title['tag_counts'] = tagged_true_news_title['title'].map(count_tags)\n",
        "tag_set = list(set([tag for tags in tagged_true_news_title['tag_counts'] for tag in tags]))\n",
        "for tag in tag_set:\n",
        "    tagged_true_news_title[tag] = tagged_true_news_title['tag_counts'].map(lambda x: x.get(tag, 0))\n",
        "title = 'Frequency of POS Tags in Fake News Titles'    \n",
        "print(tagged_true_news_title[tag_set].sum().sort_values())"
      ],
      "execution_count": null,
      "outputs": [
        {
          "output_type": "stream",
          "text": [
            ",           1\n",
            "UH          4\n",
            "WP$         4\n",
            "$           4\n",
            "SYM        10\n",
            "PDT        13\n",
            "EX         14\n",
            "RBS        15\n",
            "''         43\n",
            "WDT        75\n",
            "FW        101\n",
            "WRB       128\n",
            "RBR       150\n",
            "WP        190\n",
            "JJS       309\n",
            ":         360\n",
            "PRP$      447\n",
            "JJR       494\n",
            "POS       601\n",
            "RP        664\n",
            "PRP       787\n",
            "NNPS      843\n",
            "CC        955\n",
            "MD       1964\n",
            "DT       1994\n",
            "VBN      2173\n",
            "VBD      2661\n",
            "RB       2834\n",
            "CD       2965\n",
            "VBG      3243\n",
            "VBP      3609\n",
            "TO       7798\n",
            "VB       8778\n",
            "VBZ     10894\n",
            "NNS     17072\n",
            "JJ      17180\n",
            "IN      23474\n",
            "NN      46762\n",
            "NNP     53582\n",
            "dtype: int64\n"
          ],
          "name": "stdout"
        }
      ]
    },
    {
      "cell_type": "code",
      "metadata": {
        "colab": {
          "base_uri": "https://localhost:8080/"
        },
        "id": "bdLYd7QHxV4b",
        "outputId": "a09ffeae-8d75-4a65-f376-adf55461f419"
      },
      "source": [
        "tagged_fake_news_title = pd.DataFrame(tagged_fake_news_title)\n",
        "tagged_fake_news_title['tag_counts'] = tagged_fake_news_title['title'].map(count_tags)\n",
        "tag_set = list(set([tag for tags in tagged_fake_news_title['tag_counts'] for tag in tags]))\n",
        "for tag in tag_set:\n",
        "    tagged_fake_news_title[tag] = tagged_fake_news_title['tag_counts'].map(lambda x: x.get(tag, 0))\n",
        "title = 'Frequency of POS Tags in Fake News Titles'    \n",
        "print(tagged_fake_news_title[tag_set].sum().sort_values())"
      ],
      "execution_count": null,
      "outputs": [
        {
          "output_type": "stream",
          "text": [
            "''           1\n",
            ",            4\n",
            "UH           5\n",
            "POS          6\n",
            ".           12\n",
            "FW          31\n",
            "PDT         35\n",
            "$           38\n",
            ":           40\n",
            "RBS         46\n",
            "RBR         75\n",
            "EX          82\n",
            "JJS        165\n",
            "WDT        271\n",
            "JJR        281\n",
            "MD         666\n",
            "RP         668\n",
            "WP         757\n",
            "WRB       1306\n",
            "VBN       1339\n",
            "NNPS      2269\n",
            "PRP$      2564\n",
            "VBP       2633\n",
            "CD        2790\n",
            "RB        2972\n",
            "CC        3578\n",
            "NNS       3635\n",
            "PRP       3999\n",
            "VBD       4181\n",
            "VBG       4181\n",
            "VBZ       5017\n",
            "VB        5764\n",
            "JJ        6155\n",
            "DT        8635\n",
            "TO        8684\n",
            "NN       13888\n",
            "IN       28951\n",
            "NNP     230217\n",
            "dtype: int64\n"
          ],
          "name": "stdout"
        }
      ]
    },
    {
      "cell_type": "code",
      "metadata": {
        "colab": {
          "base_uri": "https://localhost:8080/",
          "height": 520
        },
        "id": "1U2ce3FPxf0f",
        "outputId": "0968729c-6e29-4fae-c110-58be13354df2"
      },
      "source": [
        "vocab = {}\n",
        "for row in tagged_true_news_title['title']:\n",
        "    for word, tag in row:\n",
        "        if word in vocab:\n",
        "            vocab[word] += 1\n",
        "        else:\n",
        "            vocab[word] = 1\n",
        "\n",
        "vocab_df = pd.DataFrame.from_dict(vocab, orient='index')\n",
        "vocab_df.columns = ['count']\n",
        "size = 30\n",
        "title = 'Top {} Most Frequent Words in True Titles'.format(size)\n",
        "vocab_df.sort_values(by='count').tail(size).plot(kind='barh', logx=True, figsize=(12,8), title=title)"
      ],
      "execution_count": null,
      "outputs": [
        {
          "output_type": "execute_result",
          "data": {
            "text/plain": [
              "<matplotlib.axes._subplots.AxesSubplot at 0x7f8633401950>"
            ]
          },
          "metadata": {
            "tags": []
          },
          "execution_count": 14
        },
        {
          "output_type": "display_data",
          "data": {
            "image/png": "[encoded data removed]",
            "text/plain": [
              "<Figure size 864x576 with 1 Axes>"
            ]
          },
          "metadata": {
            "tags": [],
            "needs_background": "light"
          }
        }
      ]
    },
    {
      "cell_type": "code",
      "metadata": {
        "colab": {
          "base_uri": "https://localhost:8080/",
          "height": 520
        },
        "id": "dFq3aNAKx2GE",
        "outputId": "595d928a-0ada-41c8-ceb8-d332fa569f30"
      },
      "source": [
        "vocab = {}\n",
        "for row in tagged_fake_news_title['title']:\n",
        "    for word, tag in row:\n",
        "        if word in vocab:\n",
        "            vocab[word] += 1\n",
        "        else:\n",
        "            vocab[word] = 1\n",
        "\n",
        "vocab_df = pd.DataFrame.from_dict(vocab, orient='index')\n",
        "vocab_df.columns = ['count']\n",
        "size = 30\n",
        "title = 'Top {} Most Frequent Words in Fake Titles'.format(size)\n",
        "vocab_df.sort_values(by='count').tail(size).plot(kind='barh', logx=True, figsize=(12,8), title=title)"
      ],
      "execution_count": null,
      "outputs": [
        {
          "output_type": "execute_result",
          "data": {
            "text/plain": [
              "<matplotlib.axes._subplots.AxesSubplot at 0x7f86332ff1d0>"
            ]
          },
          "metadata": {
            "tags": []
          },
          "execution_count": 15
        },
        {
          "output_type": "display_data",
          "data": {
            "image/png": "[encoded data removed]",
            "text/plain": [
              "<Figure size 864x576 with 1 Axes>"
            ]
          },
          "metadata": {
            "tags": [],
            "needs_background": "light"
          }
        }
      ]
    },
    {
      "cell_type": "code",
      "metadata": {
        "id": "9TLGnXnhx9qu"
      },
      "source": [
        "def generate_ngrams(text, n=2):\n",
        "    words = text.split()\n",
        "    iterations = len(words) - n + 1\n",
        "    for i in range(iterations):\n",
        "       yield words[i:i + n]"
      ],
      "execution_count": null,
      "outputs": []
    },
    {
      "cell_type": "code",
      "metadata": {
        "colab": {
          "base_uri": "https://localhost:8080/",
          "height": 624
        },
        "id": "qHRCf9DjyENV",
        "outputId": "1d0feb47-c6bc-4147-f693-69ebdf9a40d1"
      },
      "source": [
        "n = 3 # n is the length of the ngram, 2 = bigram, 3 = trigram, etc.\n",
        "ngrams = {}\n",
        "for title in true['title']:\n",
        "    for ngram in generate_ngrams(title, n):\n",
        "        ngram = ' '.join(ngram)\n",
        "        if ngram in ngrams:\n",
        "            ngrams[ngram] += 1\n",
        "        else:\n",
        "            ngrams[ngram] = 1\n",
        "\n",
        "ngrams_df_true = pd.DataFrame.from_dict(ngrams, orient='index')\n",
        "ngrams_df_true.columns = ['count']\n",
        "size = 25\n",
        "title = 'Top {} Most Frequent {}-grams in True Titles'.format(size, n)\n",
        "ngrams_df_true.sort_values(by='count').tail(size).plot(kind='barh', logx=False, figsize=(12,10), title=title)"
      ],
      "execution_count": null,
      "outputs": [
        {
          "output_type": "execute_result",
          "data": {
            "text/plain": [
              "<matplotlib.axes._subplots.AxesSubplot at 0x7f8631cdbe50>"
            ]
          },
          "metadata": {
            "tags": []
          },
          "execution_count": 25
        },
        {
          "output_type": "display_data",
          "data": {
            "image/png": "[encoded data removed]",
            "text/plain": [
              "<Figure size 864x720 with 1 Axes>"
            ]
          },
          "metadata": {
            "tags": [],
            "needs_background": "light"
          }
        }
      ]
    },
    {
      "cell_type": "code",
      "metadata": {
        "colab": {
          "base_uri": "https://localhost:8080/",
          "height": 624
        },
        "id": "fPJk8_5cyNTZ",
        "outputId": "e6bb4417-eae7-40bf-9c46-45b4d21b444a"
      },
      "source": [
        "n = 3 # n is the length of the ngram, 2 = bigram, 3 = trigram, etc.\n",
        "ngrams = {}\n",
        "for title in fake['title']:\n",
        "    for ngram in generate_ngrams(title, n):\n",
        "        ngram = ' '.join(ngram)\n",
        "        if ngram in ngrams:\n",
        "            ngrams[ngram] += 1\n",
        "        else:\n",
        "            ngrams[ngram] = 1\n",
        "\n",
        "ngrams_df_fake = pd.DataFrame.from_dict(ngrams, orient='index')\n",
        "ngrams_df_fake.columns = ['count']\n",
        "size = 25\n",
        "title = 'Top {} Most Frequent {}-grams in Fake Titles'.format(size, n)\n",
        "ngrams_df_fake.sort_values(by='count').tail(size).plot(kind='barh', logx=False, figsize=(12,10), title=title)"
      ],
      "execution_count": null,
      "outputs": [
        {
          "output_type": "execute_result",
          "data": {
            "text/plain": [
              "<matplotlib.axes._subplots.AxesSubplot at 0x7f863319c710>"
            ]
          },
          "metadata": {
            "tags": []
          },
          "execution_count": 26
        },
        {
          "output_type": "display_data",
          "data": {
            "image/png": "[encoded data removed]",
            "text/plain": [
              "<Figure size 864x720 with 1 Axes>"
            ]
          },
          "metadata": {
            "tags": [],
            "needs_background": "light"
          }
        }
      ]
    },
    {
      "cell_type": "code",
      "metadata": {
        "colab": {
          "base_uri": "https://localhost:8080/"
        },
        "id": "DHBNh4o14EKq",
        "outputId": "dbbc3f15-1c86-4775-e3a1-461ad160d337"
      },
      "source": [
        "print(ngrams_df_fake.index)\n",
        "tagged_trigrams_fake = ngrams_df_fake.index.str.split().map(pos_tag) \n",
        "tagged_trigrams_true = ngrams_df_true.index.str.split().map(pos_tag) "
      ],
      "execution_count": null,
      "outputs": [
        {
          "output_type": "stream",
          "text": [
            "Index(['Donald Trump Sends', 'Trump Sends Out', 'Sends Out Embarrassing',\n",
            "       'Out Embarrassing New', 'Embarrassing New Year’s', 'New Year’s Eve',\n",
            "       'Year’s Eve Message;', 'Eve Message; This', 'Message; This is',\n",
            "       'This is Disturbing',\n",
            "       ...\n",
            "       'Troubled King: Chicago’s', 'King: Chicago’s Rahm',\n",
            "       'Chicago’s Rahm Emanuel', 'Rahm Emanuel Desperate',\n",
            "       'Emanuel Desperate to', 'Desperate to Save', 'to Save His',\n",
            "       'Save His 2020', 'His 2020 Presidential', '2020 Presidential Run'],\n",
            "      dtype='object', length=205551)\n"
          ],
          "name": "stdout"
        }
      ]
    },
    {
      "cell_type": "code",
      "metadata": {
        "id": "Ik34-STNAUpi"
      },
      "source": [
        "import pickle\n",
        "with open('Tagged_fake_news_trigrams_title.pickle','wb') as f:\n",
        "    pickle.dump(tagged_trigrams_fake, f)\n"
      ],
      "execution_count": null,
      "outputs": []
    },
    {
      "cell_type": "code",
      "metadata": {
        "id": "zOPpYRTKGrAn"
      },
      "source": [
        "import pickle\n",
        "with open('Tagged_true_news_trigrams_title.pickle','wb') as f:\n",
        "    pickle.dump(tagged_trigrams_fake, f)"
      ],
      "execution_count": null,
      "outputs": []
    },
    {
      "cell_type": "code",
      "metadata": {
        "id": "_mUREAkuyf6h"
      },
      "source": [
        "import pickle\n",
        "with open('Tagged_fake_news_title.pickle','wb') as f:\n",
        "    pickle.dump(tagged_fake_news_title, f)\n"
      ],
      "execution_count": null,
      "outputs": []
    },
    {
      "cell_type": "code",
      "metadata": {
        "id": "hIFFnXiq1MG4"
      },
      "source": [
        "with open('Tagged_fake_news_text.pickle','wb') as f:\n",
        "    pickle.dump(tagged_fake_news_text, f)"
      ],
      "execution_count": null,
      "outputs": []
    },
    {
      "cell_type": "code",
      "metadata": {
        "id": "uuHB8s9E1Pvs"
      },
      "source": [
        "with open('Tagged_true_news_title.pickle','wb') as f:\n",
        "    pickle.dump(tagged_true_news_title, f)"
      ],
      "execution_count": null,
      "outputs": []
    },
    {
      "cell_type": "code",
      "metadata": {
        "id": "cs7uU44I1Tzq"
      },
      "source": [
        "with open('Tagged_true_news_text.pickle','wb') as f:\n",
        "    pickle.dump(tagged_true_news_text, f)"
      ],
      "execution_count": null,
      "outputs": []
    }
  ]
}