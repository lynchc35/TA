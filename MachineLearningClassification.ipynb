{
 "cells": [
  {
   "cell_type": "code",
   "execution_count": 1,
   "metadata": {},
   "outputs": [],
   "source": [
    "import pickle\n",
    "import pandas as pd\n",
    "import numpy as np\n",
    "from sklearn.model_selection import train_test_split\n",
    "from sklearn.ensemble import RandomForestClassifier\n",
    "from sklearn import metrics\n",
    "import matplotlib.pyplot as plt\n",
    "import seaborn as sns\n",
    "from sklearn.dummy import DummyClassifier\n",
    "from sklearn.metrics import roc_curve \n",
    "from sklearn.metrics import auc \n",
    "from sklearn.metrics import plot_roc_curve \n",
    "from sklearn.metrics import plot_confusion_matrix\n",
    "from sklearn.metrics import plot_precision_recall_curve \n",
    "from sklearn.metrics import f1_score\n",
    "from sklearn.metrics import precision_score\n",
    "from sklearn.metrics import recall_score\n",
    "from sklearn.metrics import classification_report, confusion_matrix, accuracy_score\n",
    "from sklearn.model_selection import cross_val_score\n",
    "from sklearn.model_selection import GridSearchCV\n",
    "from sklearn import preprocessing\n",
    "from sklearn import metrics"
   ]
  },
  {
   "cell_type": "markdown",
   "metadata": {},
   "source": [
    "# NEW SYNTAX FEATURE"
   ]
  },
  {
   "cell_type": "code",
   "execution_count": 2,
   "metadata": {
    "scrolled": true
   },
   "outputs": [],
   "source": [
    "# import nltk\n",
    "# from nltk import pos_tag \n",
    "# nltk.download('averaged_perceptron_tagger')"
   ]
  },
  {
   "cell_type": "code",
   "execution_count": 3,
   "metadata": {},
   "outputs": [],
   "source": [
    "# fake = pd.read_csv('Fake.csv')\n",
    "# true = pd.read_csv('True.csv')"
   ]
  },
  {
   "cell_type": "code",
   "execution_count": 4,
   "metadata": {},
   "outputs": [],
   "source": [
    "# print(true.iloc[1,0])"
   ]
  },
  {
   "cell_type": "code",
   "execution_count": 5,
   "metadata": {},
   "outputs": [],
   "source": [
    "# tagged_fake_news_title = fake['title'].str.split().map(pos_tag) \n",
    "# tagged_true_news_title = true['title'].str.split().map(pos_tag) "
   ]
  },
  {
   "cell_type": "code",
   "execution_count": 6,
   "metadata": {},
   "outputs": [],
   "source": [
    "# print(tagged_true_news_title[1])"
   ]
  },
  {
   "cell_type": "code",
   "execution_count": 7,
   "metadata": {},
   "outputs": [],
   "source": [
    "# def tags(titles):\n",
    "#     entries = []\n",
    "#     for entry in titles:\n",
    "#         tag_string = \"\"\n",
    "#         for pair in entry:\n",
    "#             tag_string = tag_string + \" \" + pair[1]\n",
    "#         entries.append(tag_string.lstrip())\n",
    "#     return entries"
   ]
  },
  {
   "cell_type": "code",
   "execution_count": 8,
   "metadata": {},
   "outputs": [],
   "source": [
    "# true_tags = tags(tagged_true_news_title)\n",
    "# fake_tags = tags(tagged_fake_news_title)"
   ]
  },
  {
   "cell_type": "code",
   "execution_count": 78,
   "metadata": {},
   "outputs": [
    {
     "name": "stdout",
     "output_type": "stream",
     "text": [
      "NNP JJ TO VB NN NNS IN NNP NNP\n"
     ]
    }
   ],
   "source": [
    "# print(true_tags[1])"
   ]
  },
  {
   "cell_type": "code",
   "execution_count": 79,
   "metadata": {},
   "outputs": [
    {
     "name": "stdout",
     "output_type": "stream",
     "text": [
      "NNP NNP NNP NNP NNP NNP NNP NNP\n"
     ]
    }
   ],
   "source": [
    "# print(fake_tags[1])"
   ]
  },
  {
   "cell_type": "code",
   "execution_count": 80,
   "metadata": {},
   "outputs": [],
   "source": [
    "# all_tags = true_tags + fake_tags"
   ]
  },
  {
   "cell_type": "code",
   "execution_count": 82,
   "metadata": {},
   "outputs": [],
   "source": [
    "# all_tags"
   ]
  },
  {
   "cell_type": "code",
   "execution_count": 89,
   "metadata": {},
   "outputs": [],
   "source": [
    "# import collections"
   ]
  },
  {
   "cell_type": "code",
   "execution_count": 91,
   "metadata": {},
   "outputs": [
    {
     "name": "stdout",
     "output_type": "stream",
     "text": [
      "[('NNP NNP NNP NNP NNP NNP NNP NNP NNP NNP NNP', 94), ('NNP NNP NNP NNP NNP NNP NNP NNP NNP', 75), ('NNP NNP NNP NNP NNP NNP NNP NNP', 66), ('NNP NNP NNP NNP NNP NNP NNP NNP NNP NNP', 63), ('NNP NNP NNP NNP NNP NNP NNP NNP NNP NNP NNP NNP', 56), ('NNP NNP NNP NNP NNP NNP NNP NNP NNP NNP NNP NNP NNP', 53), ('NNP NNP NNP NNP NNP NNP NNP NNP NNP NNP NNP NNP NNP NNP', 52), ('NNP NNP NNP NNP NNP NNP NNP', 50), ('NNP NNP NNP NNP NNP NNP NNP NNP NNP NN', 45), ('NNP NNP NNP NNP NNP NNP NNP NNP NNP NNP NN', 44)]\n"
     ]
    }
   ],
   "source": [
    "# a_counter = collections.Counter(all_tags)\n",
    "# most_common = a_counter.most_common(10)\n",
    "# print(most_common)"
   ]
  },
  {
   "cell_type": "code",
   "execution_count": 94,
   "metadata": {},
   "outputs": [
    {
     "data": {
      "text/plain": [
       "'NNP NNP NNP NNP NNP NNP NNP NNP NNP NNP NNP'"
      ]
     },
     "execution_count": 94,
     "metadata": {},
     "output_type": "execute_result"
    }
   ],
   "source": [
    "# most_common[0][0]"
   ]
  },
  {
   "cell_type": "code",
   "execution_count": 115,
   "metadata": {},
   "outputs": [
    {
     "name": "stdout",
     "output_type": "stream",
     "text": [
      "NNP NNP NNP NNP NNP NNP NNP NNP NNP NNP NNP\n",
      "True :0\n",
      "Fake :94\n",
      "\n",
      "NNP NNP NNP NNP NNP NNP NNP NNP NNP\n",
      "True :0\n",
      "Fake :75\n",
      "\n",
      "NNP NNP NNP NNP NNP NNP NNP NNP\n",
      "True :0\n",
      "Fake :66\n",
      "\n",
      "NNP NNP NNP NNP NNP NNP NNP NNP NNP NNP\n",
      "True :0\n",
      "Fake :63\n",
      "\n",
      "NNP NNP NNP NNP NNP NNP NNP NNP NNP NNP NNP NNP\n",
      "True :0\n",
      "Fake :56\n",
      "\n",
      "NNP NNP NNP NNP NNP NNP NNP NNP NNP NNP NNP NNP NNP\n",
      "True :0\n",
      "Fake :53\n",
      "\n",
      "NNP NNP NNP NNP NNP NNP NNP NNP NNP NNP NNP NNP NNP NNP\n",
      "True :0\n",
      "Fake :52\n",
      "\n",
      "NNP NNP NNP NNP NNP NNP NNP\n",
      "True :0\n",
      "Fake :50\n",
      "\n",
      "NNP NNP NNP NNP NNP NNP NNP NNP NNP NN\n",
      "True :0\n",
      "Fake :45\n",
      "\n",
      "NNP NNP NNP NNP NNP NNP NNP NNP NNP NNP NN\n",
      "True :0\n",
      "Fake :44\n",
      "\n"
     ]
    }
   ],
   "source": [
    "# for i in range(0,10):\n",
    "#     true = 0\n",
    "#     for x in true_tags:\n",
    "#         if x == most_common[i][0]:\n",
    "#             true = true + 1\n",
    "#     fake = 0\n",
    "#     for x in fake_tags:\n",
    "#         if x == most_common[i][0]:\n",
    "#             fake = fake + 1\n",
    "\n",
    "#     print(most_common[i][0])\n",
    "#     print(\"True :\" + str(true))\n",
    "#     print(\"Fake :\" + str(fake))\n",
    "#     print(\"\")"
   ]
  },
  {
   "cell_type": "code",
   "execution_count": 97,
   "metadata": {},
   "outputs": [
    {
     "name": "stdout",
     "output_type": "stream",
     "text": [
      "0\n"
     ]
    }
   ],
   "source": [
    "# i = 0\n",
    "# x = \"NNP NNP NNP NNP NNP NNP NNP NNP NNP NNP NNP\"\n",
    "# if x in true_tags:\n",
    "#     i = i + 1\n",
    "# print(i)"
   ]
  },
  {
   "cell_type": "code",
   "execution_count": 83,
   "metadata": {},
   "outputs": [],
   "source": [
    "# le = preprocessing.LabelEncoder()\n",
    "# le.fit(all_tags)\n",
    "# tags_encoded = le.transform(all_tags)"
   ]
  },
  {
   "cell_type": "code",
   "execution_count": 84,
   "metadata": {},
   "outputs": [
    {
     "data": {
      "text/plain": [
       "array([ 1745,  9176,  3856, ..., 12213, 36459,   273])"
      ]
     },
     "execution_count": 84,
     "metadata": {},
     "output_type": "execute_result"
    }
   ],
   "source": [
    "# tags_encoded"
   ]
  },
  {
   "cell_type": "code",
   "execution_count": 86,
   "metadata": {},
   "outputs": [],
   "source": [
    "# le.inverse_transform([0, 0, 1, 2])"
   ]
  },
  {
   "cell_type": "code",
   "execution_count": 15,
   "metadata": {},
   "outputs": [],
   "source": [
    "# np.savetxt(\"syntax.txt\", tags_encoded, fmt=\"%s\")"
   ]
  },
  {
   "cell_type": "code",
   "execution_count": 9,
   "metadata": {
    "scrolled": false
   },
   "outputs": [],
   "source": [
    "syntax = pd.read_csv(\"syntax.txt\",header=None)"
   ]
  },
  {
   "cell_type": "code",
   "execution_count": 10,
   "metadata": {},
   "outputs": [
    {
     "data": {
      "text/html": [
       "<div>\n",
       "<style scoped>\n",
       "    .dataframe tbody tr th:only-of-type {\n",
       "        vertical-align: middle;\n",
       "    }\n",
       "\n",
       "    .dataframe tbody tr th {\n",
       "        vertical-align: top;\n",
       "    }\n",
       "\n",
       "    .dataframe thead th {\n",
       "        text-align: right;\n",
       "    }\n",
       "</style>\n",
       "<table border=\"1\" class=\"dataframe\">\n",
       "  <thead>\n",
       "    <tr style=\"text-align: right;\">\n",
       "      <th></th>\n",
       "      <th>0</th>\n",
       "    </tr>\n",
       "  </thead>\n",
       "  <tbody>\n",
       "    <tr>\n",
       "      <th>0</th>\n",
       "      <td>1745</td>\n",
       "    </tr>\n",
       "    <tr>\n",
       "      <th>1</th>\n",
       "      <td>9176</td>\n",
       "    </tr>\n",
       "    <tr>\n",
       "      <th>2</th>\n",
       "      <td>3856</td>\n",
       "    </tr>\n",
       "    <tr>\n",
       "      <th>3</th>\n",
       "      <td>13660</td>\n",
       "    </tr>\n",
       "    <tr>\n",
       "      <th>4</th>\n",
       "      <td>7795</td>\n",
       "    </tr>\n",
       "    <tr>\n",
       "      <th>...</th>\n",
       "      <td>...</td>\n",
       "    </tr>\n",
       "    <tr>\n",
       "      <th>44893</th>\n",
       "      <td>15885</td>\n",
       "    </tr>\n",
       "    <tr>\n",
       "      <th>44894</th>\n",
       "      <td>18199</td>\n",
       "    </tr>\n",
       "    <tr>\n",
       "      <th>44895</th>\n",
       "      <td>12213</td>\n",
       "    </tr>\n",
       "    <tr>\n",
       "      <th>44896</th>\n",
       "      <td>36459</td>\n",
       "    </tr>\n",
       "    <tr>\n",
       "      <th>44897</th>\n",
       "      <td>273</td>\n",
       "    </tr>\n",
       "  </tbody>\n",
       "</table>\n",
       "<p>44898 rows × 1 columns</p>\n",
       "</div>"
      ],
      "text/plain": [
       "           0\n",
       "0       1745\n",
       "1       9176\n",
       "2       3856\n",
       "3      13660\n",
       "4       7795\n",
       "...      ...\n",
       "44893  15885\n",
       "44894  18199\n",
       "44895  12213\n",
       "44896  36459\n",
       "44897    273\n",
       "\n",
       "[44898 rows x 1 columns]"
      ]
     },
     "execution_count": 10,
     "metadata": {},
     "output_type": "execute_result"
    }
   ],
   "source": [
    "syntax"
   ]
  },
  {
   "cell_type": "code",
   "execution_count": 11,
   "metadata": {},
   "outputs": [],
   "source": [
    "# true_syntax.plot(kind=\"bar\")"
   ]
  },
  {
   "cell_type": "markdown",
   "metadata": {},
   "source": [
    "# PICKLE FILES FEATURES"
   ]
  },
  {
   "cell_type": "code",
   "execution_count": 37,
   "metadata": {},
   "outputs": [],
   "source": [
    "true = pd.read_pickle(\"Tagged_true_news_title.pickle\")\n",
    "fake = pd.read_pickle(\"Tagged_fake_news_title.pickle\")"
   ]
  },
  {
   "cell_type": "code",
   "execution_count": 38,
   "metadata": {},
   "outputs": [],
   "source": [
    "# true_trigrams = pd.read_pickle(\"Tagged_true_news_trigrams_title.pickle\")\n",
    "# fake_trigrams = pd.read_pickle(\"Tagged_fake_news_trigrams_title.pickle\")"
   ]
  },
  {
   "cell_type": "markdown",
   "metadata": {},
   "source": [
    "### Add a true / fake status to the data"
   ]
  },
  {
   "cell_type": "code",
   "execution_count": 39,
   "metadata": {},
   "outputs": [],
   "source": [
    "def add_status(df, stat):\n",
    "    rows = df.shape[0]\n",
    "    status = []\n",
    "    for i in range(rows):\n",
    "        status.append(stat)\n",
    "    return status"
   ]
  },
  {
   "cell_type": "code",
   "execution_count": 40,
   "metadata": {},
   "outputs": [],
   "source": [
    "status_true = add_status(true, \"True\")"
   ]
  },
  {
   "cell_type": "code",
   "execution_count": 41,
   "metadata": {},
   "outputs": [],
   "source": [
    "status_fake = add_status(fake, \"Fake\")"
   ]
  },
  {
   "cell_type": "code",
   "execution_count": 42,
   "metadata": {},
   "outputs": [],
   "source": [
    "true['Status'] = status_true"
   ]
  },
  {
   "cell_type": "code",
   "execution_count": 43,
   "metadata": {},
   "outputs": [],
   "source": [
    "fake['Status'] = status_fake"
   ]
  },
  {
   "cell_type": "code",
   "execution_count": 44,
   "metadata": {},
   "outputs": [
    {
     "data": {
      "text/html": [
       "<div>\n",
       "<style scoped>\n",
       "    .dataframe tbody tr th:only-of-type {\n",
       "        vertical-align: middle;\n",
       "    }\n",
       "\n",
       "    .dataframe tbody tr th {\n",
       "        vertical-align: top;\n",
       "    }\n",
       "\n",
       "    .dataframe thead th {\n",
       "        text-align: right;\n",
       "    }\n",
       "</style>\n",
       "<table border=\"1\" class=\"dataframe\">\n",
       "  <thead>\n",
       "    <tr style=\"text-align: right;\">\n",
       "      <th></th>\n",
       "      <th>title</th>\n",
       "      <th>tag_counts</th>\n",
       "      <th>VBD</th>\n",
       "      <th>VBZ</th>\n",
       "      <th>WDT</th>\n",
       "      <th>DT</th>\n",
       "      <th>CC</th>\n",
       "      <th>POS</th>\n",
       "      <th>RB</th>\n",
       "      <th>PRP</th>\n",
       "      <th>...</th>\n",
       "      <th>WP</th>\n",
       "      <th>TO</th>\n",
       "      <th>VBP</th>\n",
       "      <th>RBR</th>\n",
       "      <th>NNPS</th>\n",
       "      <th>VBN</th>\n",
       "      <th>JJ</th>\n",
       "      <th>VB</th>\n",
       "      <th>FW</th>\n",
       "      <th>Status</th>\n",
       "    </tr>\n",
       "  </thead>\n",
       "  <tbody>\n",
       "    <tr>\n",
       "      <th>0</th>\n",
       "      <td>[(As, IN), (U.S., NNP), (budget, NN), (fight, ...</td>\n",
       "      <td>{'IN': 1, 'NNP': 1, 'NN': 4, 'NNPS': 1, 'VBP':...</td>\n",
       "      <td>0</td>\n",
       "      <td>0</td>\n",
       "      <td>0</td>\n",
       "      <td>0</td>\n",
       "      <td>0</td>\n",
       "      <td>0</td>\n",
       "      <td>0</td>\n",
       "      <td>0</td>\n",
       "      <td>...</td>\n",
       "      <td>0</td>\n",
       "      <td>0</td>\n",
       "      <td>1</td>\n",
       "      <td>0</td>\n",
       "      <td>1</td>\n",
       "      <td>0</td>\n",
       "      <td>1</td>\n",
       "      <td>0</td>\n",
       "      <td>0</td>\n",
       "      <td>True</td>\n",
       "    </tr>\n",
       "    <tr>\n",
       "      <th>1</th>\n",
       "      <td>[(U.S., NNP), (military, JJ), (to, TO), (accep...</td>\n",
       "      <td>{'NNP': 3, 'JJ': 1, 'TO': 1, 'VB': 1, 'NN': 1,...</td>\n",
       "      <td>0</td>\n",
       "      <td>0</td>\n",
       "      <td>0</td>\n",
       "      <td>0</td>\n",
       "      <td>0</td>\n",
       "      <td>0</td>\n",
       "      <td>0</td>\n",
       "      <td>0</td>\n",
       "      <td>...</td>\n",
       "      <td>0</td>\n",
       "      <td>1</td>\n",
       "      <td>0</td>\n",
       "      <td>0</td>\n",
       "      <td>0</td>\n",
       "      <td>0</td>\n",
       "      <td>1</td>\n",
       "      <td>1</td>\n",
       "      <td>0</td>\n",
       "      <td>True</td>\n",
       "    </tr>\n",
       "    <tr>\n",
       "      <th>2</th>\n",
       "      <td>[(Senior, JJ), (U.S., NNP), (Republican, NNP),...</td>\n",
       "      <td>{'JJ': 1, 'NNP': 4, 'NN': 2, 'POS': 1, 'VB': 1...</td>\n",
       "      <td>0</td>\n",
       "      <td>0</td>\n",
       "      <td>0</td>\n",
       "      <td>0</td>\n",
       "      <td>0</td>\n",
       "      <td>1</td>\n",
       "      <td>0</td>\n",
       "      <td>0</td>\n",
       "      <td>...</td>\n",
       "      <td>0</td>\n",
       "      <td>0</td>\n",
       "      <td>0</td>\n",
       "      <td>0</td>\n",
       "      <td>0</td>\n",
       "      <td>0</td>\n",
       "      <td>1</td>\n",
       "      <td>1</td>\n",
       "      <td>0</td>\n",
       "      <td>True</td>\n",
       "    </tr>\n",
       "    <tr>\n",
       "      <th>3</th>\n",
       "      <td>[(FBI, NNP), (Russia, NNP), (probe, NN), (help...</td>\n",
       "      <td>{'NNP': 3, 'NN': 2, 'VBD': 1, 'IN': 1, 'JJ': 2}</td>\n",
       "      <td>1</td>\n",
       "      <td>0</td>\n",
       "      <td>0</td>\n",
       "      <td>0</td>\n",
       "      <td>0</td>\n",
       "      <td>0</td>\n",
       "      <td>0</td>\n",
       "      <td>0</td>\n",
       "      <td>...</td>\n",
       "      <td>0</td>\n",
       "      <td>0</td>\n",
       "      <td>0</td>\n",
       "      <td>0</td>\n",
       "      <td>0</td>\n",
       "      <td>0</td>\n",
       "      <td>2</td>\n",
       "      <td>0</td>\n",
       "      <td>0</td>\n",
       "      <td>True</td>\n",
       "    </tr>\n",
       "    <tr>\n",
       "      <th>4</th>\n",
       "      <td>[(Trump, NN), (wants, VBZ), (Postal, NNP), (Se...</td>\n",
       "      <td>{'NN': 2, 'VBZ': 1, 'NNP': 3, 'TO': 1, 'VB': 1...</td>\n",
       "      <td>0</td>\n",
       "      <td>1</td>\n",
       "      <td>0</td>\n",
       "      <td>0</td>\n",
       "      <td>0</td>\n",
       "      <td>0</td>\n",
       "      <td>0</td>\n",
       "      <td>0</td>\n",
       "      <td>...</td>\n",
       "      <td>0</td>\n",
       "      <td>1</td>\n",
       "      <td>0</td>\n",
       "      <td>0</td>\n",
       "      <td>0</td>\n",
       "      <td>0</td>\n",
       "      <td>1</td>\n",
       "      <td>1</td>\n",
       "      <td>0</td>\n",
       "      <td>True</td>\n",
       "    </tr>\n",
       "  </tbody>\n",
       "</table>\n",
       "<p>5 rows × 42 columns</p>\n",
       "</div>"
      ],
      "text/plain": [
       "                                               title  \\\n",
       "0  [(As, IN), (U.S., NNP), (budget, NN), (fight, ...   \n",
       "1  [(U.S., NNP), (military, JJ), (to, TO), (accep...   \n",
       "2  [(Senior, JJ), (U.S., NNP), (Republican, NNP),...   \n",
       "3  [(FBI, NNP), (Russia, NNP), (probe, NN), (help...   \n",
       "4  [(Trump, NN), (wants, VBZ), (Postal, NNP), (Se...   \n",
       "\n",
       "                                          tag_counts  VBD  VBZ  WDT  DT  CC  \\\n",
       "0  {'IN': 1, 'NNP': 1, 'NN': 4, 'NNPS': 1, 'VBP':...    0    0    0   0   0   \n",
       "1  {'NNP': 3, 'JJ': 1, 'TO': 1, 'VB': 1, 'NN': 1,...    0    0    0   0   0   \n",
       "2  {'JJ': 1, 'NNP': 4, 'NN': 2, 'POS': 1, 'VB': 1...    0    0    0   0   0   \n",
       "3    {'NNP': 3, 'NN': 2, 'VBD': 1, 'IN': 1, 'JJ': 2}    1    0    0   0   0   \n",
       "4  {'NN': 2, 'VBZ': 1, 'NNP': 3, 'TO': 1, 'VB': 1...    0    1    0   0   0   \n",
       "\n",
       "   POS  RB  PRP  ...  WP  TO  VBP  RBR  NNPS  VBN  JJ  VB  FW  Status  \n",
       "0    0   0    0  ...   0   0    1    0     1    0   1   0   0    True  \n",
       "1    0   0    0  ...   0   1    0    0     0    0   1   1   0    True  \n",
       "2    1   0    0  ...   0   0    0    0     0    0   1   1   0    True  \n",
       "3    0   0    0  ...   0   0    0    0     0    0   2   0   0    True  \n",
       "4    0   0    0  ...   0   1    0    0     0    0   1   1   0    True  \n",
       "\n",
       "[5 rows x 42 columns]"
      ]
     },
     "execution_count": 44,
     "metadata": {},
     "output_type": "execute_result"
    }
   ],
   "source": [
    "true.head()"
   ]
  },
  {
   "cell_type": "code",
   "execution_count": 45,
   "metadata": {},
   "outputs": [
    {
     "data": {
      "text/html": [
       "<div>\n",
       "<style scoped>\n",
       "    .dataframe tbody tr th:only-of-type {\n",
       "        vertical-align: middle;\n",
       "    }\n",
       "\n",
       "    .dataframe tbody tr th {\n",
       "        vertical-align: top;\n",
       "    }\n",
       "\n",
       "    .dataframe thead th {\n",
       "        text-align: right;\n",
       "    }\n",
       "</style>\n",
       "<table border=\"1\" class=\"dataframe\">\n",
       "  <thead>\n",
       "    <tr style=\"text-align: right;\">\n",
       "      <th></th>\n",
       "      <th>title</th>\n",
       "      <th>tag_counts</th>\n",
       "      <th>VBD</th>\n",
       "      <th>VBZ</th>\n",
       "      <th>WDT</th>\n",
       "      <th>DT</th>\n",
       "      <th>CC</th>\n",
       "      <th>POS</th>\n",
       "      <th>RB</th>\n",
       "      <th>PRP</th>\n",
       "      <th>...</th>\n",
       "      <th>WP</th>\n",
       "      <th>TO</th>\n",
       "      <th>VBP</th>\n",
       "      <th>RBR</th>\n",
       "      <th>VBN</th>\n",
       "      <th>NNPS</th>\n",
       "      <th>JJ</th>\n",
       "      <th>VB</th>\n",
       "      <th>FW</th>\n",
       "      <th>Status</th>\n",
       "    </tr>\n",
       "  </thead>\n",
       "  <tbody>\n",
       "    <tr>\n",
       "      <th>0</th>\n",
       "      <td>[(Donald, NNP), (Trump, NNP), (Sends, VBZ), (O...</td>\n",
       "      <td>{'NNP': 6, 'VBZ': 2, 'RP': 1, 'VBG': 2, 'DT': 1}</td>\n",
       "      <td>0</td>\n",
       "      <td>2</td>\n",
       "      <td>0</td>\n",
       "      <td>1</td>\n",
       "      <td>0</td>\n",
       "      <td>0</td>\n",
       "      <td>0</td>\n",
       "      <td>0</td>\n",
       "      <td>...</td>\n",
       "      <td>0</td>\n",
       "      <td>0</td>\n",
       "      <td>0</td>\n",
       "      <td>0</td>\n",
       "      <td>0</td>\n",
       "      <td>0</td>\n",
       "      <td>0</td>\n",
       "      <td>0</td>\n",
       "      <td>0</td>\n",
       "      <td>Fake</td>\n",
       "    </tr>\n",
       "    <tr>\n",
       "      <th>1</th>\n",
       "      <td>[(Drunk, NNP), (Bragging, NNP), (Trump, NNP), ...</td>\n",
       "      <td>{'NNP': 8}</td>\n",
       "      <td>0</td>\n",
       "      <td>0</td>\n",
       "      <td>0</td>\n",
       "      <td>0</td>\n",
       "      <td>0</td>\n",
       "      <td>0</td>\n",
       "      <td>0</td>\n",
       "      <td>0</td>\n",
       "      <td>...</td>\n",
       "      <td>0</td>\n",
       "      <td>0</td>\n",
       "      <td>0</td>\n",
       "      <td>0</td>\n",
       "      <td>0</td>\n",
       "      <td>0</td>\n",
       "      <td>0</td>\n",
       "      <td>0</td>\n",
       "      <td>0</td>\n",
       "      <td>Fake</td>\n",
       "    </tr>\n",
       "    <tr>\n",
       "      <th>2</th>\n",
       "      <td>[(Sheriff, NN), (David, NNP), (Clarke, NNP), (...</td>\n",
       "      <td>{'NN': 1, 'NNP': 8, 'DT': 2, 'IN': 1, 'VBG': 1...</td>\n",
       "      <td>0</td>\n",
       "      <td>0</td>\n",
       "      <td>0</td>\n",
       "      <td>2</td>\n",
       "      <td>0</td>\n",
       "      <td>0</td>\n",
       "      <td>0</td>\n",
       "      <td>0</td>\n",
       "      <td>...</td>\n",
       "      <td>0</td>\n",
       "      <td>1</td>\n",
       "      <td>1</td>\n",
       "      <td>0</td>\n",
       "      <td>0</td>\n",
       "      <td>0</td>\n",
       "      <td>0</td>\n",
       "      <td>0</td>\n",
       "      <td>0</td>\n",
       "      <td>Fake</td>\n",
       "    </tr>\n",
       "    <tr>\n",
       "      <th>3</th>\n",
       "      <td>[(Trump, NNP), (Is, VBZ), (So, RB), (Obsessed,...</td>\n",
       "      <td>{'NNP': 5, 'VBZ': 2, 'RB': 2, 'JJ': 1, 'PRP': ...</td>\n",
       "      <td>0</td>\n",
       "      <td>2</td>\n",
       "      <td>0</td>\n",
       "      <td>0</td>\n",
       "      <td>0</td>\n",
       "      <td>0</td>\n",
       "      <td>2</td>\n",
       "      <td>1</td>\n",
       "      <td>...</td>\n",
       "      <td>0</td>\n",
       "      <td>0</td>\n",
       "      <td>0</td>\n",
       "      <td>0</td>\n",
       "      <td>1</td>\n",
       "      <td>0</td>\n",
       "      <td>1</td>\n",
       "      <td>0</td>\n",
       "      <td>0</td>\n",
       "      <td>Fake</td>\n",
       "    </tr>\n",
       "    <tr>\n",
       "      <th>4</th>\n",
       "      <td>[(Pope, NNP), (Francis, NNP), (Just, NNP), (Ca...</td>\n",
       "      <td>{'NNP': 7, 'VBD': 1, 'RP': 1, 'IN': 1, 'PRP$': 1}</td>\n",
       "      <td>1</td>\n",
       "      <td>0</td>\n",
       "      <td>0</td>\n",
       "      <td>0</td>\n",
       "      <td>0</td>\n",
       "      <td>0</td>\n",
       "      <td>0</td>\n",
       "      <td>0</td>\n",
       "      <td>...</td>\n",
       "      <td>0</td>\n",
       "      <td>0</td>\n",
       "      <td>0</td>\n",
       "      <td>0</td>\n",
       "      <td>0</td>\n",
       "      <td>0</td>\n",
       "      <td>0</td>\n",
       "      <td>0</td>\n",
       "      <td>0</td>\n",
       "      <td>Fake</td>\n",
       "    </tr>\n",
       "  </tbody>\n",
       "</table>\n",
       "<p>5 rows × 41 columns</p>\n",
       "</div>"
      ],
      "text/plain": [
       "                                               title  \\\n",
       "0  [(Donald, NNP), (Trump, NNP), (Sends, VBZ), (O...   \n",
       "1  [(Drunk, NNP), (Bragging, NNP), (Trump, NNP), ...   \n",
       "2  [(Sheriff, NN), (David, NNP), (Clarke, NNP), (...   \n",
       "3  [(Trump, NNP), (Is, VBZ), (So, RB), (Obsessed,...   \n",
       "4  [(Pope, NNP), (Francis, NNP), (Just, NNP), (Ca...   \n",
       "\n",
       "                                          tag_counts  VBD  VBZ  WDT  DT  CC  \\\n",
       "0   {'NNP': 6, 'VBZ': 2, 'RP': 1, 'VBG': 2, 'DT': 1}    0    2    0   1   0   \n",
       "1                                         {'NNP': 8}    0    0    0   0   0   \n",
       "2  {'NN': 1, 'NNP': 8, 'DT': 2, 'IN': 1, 'VBG': 1...    0    0    0   2   0   \n",
       "3  {'NNP': 5, 'VBZ': 2, 'RB': 2, 'JJ': 1, 'PRP': ...    0    2    0   0   0   \n",
       "4  {'NNP': 7, 'VBD': 1, 'RP': 1, 'IN': 1, 'PRP$': 1}    1    0    0   0   0   \n",
       "\n",
       "   POS  RB  PRP  ...  WP  TO  VBP  RBR  VBN  NNPS  JJ  VB  FW  Status  \n",
       "0    0   0    0  ...   0   0    0    0    0     0   0   0   0    Fake  \n",
       "1    0   0    0  ...   0   0    0    0    0     0   0   0   0    Fake  \n",
       "2    0   0    0  ...   0   1    1    0    0     0   0   0   0    Fake  \n",
       "3    0   2    1  ...   0   0    0    0    1     0   1   0   0    Fake  \n",
       "4    0   0    0  ...   0   0    0    0    0     0   0   0   0    Fake  \n",
       "\n",
       "[5 rows x 41 columns]"
      ]
     },
     "execution_count": 45,
     "metadata": {},
     "output_type": "execute_result"
    }
   ],
   "source": [
    "fake.head()"
   ]
  },
  {
   "cell_type": "markdown",
   "metadata": {},
   "source": [
    "### Join the two dataframes into one"
   ]
  },
  {
   "cell_type": "code",
   "execution_count": 46,
   "metadata": {},
   "outputs": [],
   "source": [
    "data = pd.concat([true, fake],join=\"inner\")"
   ]
  },
  {
   "cell_type": "code",
   "execution_count": 47,
   "metadata": {},
   "outputs": [
    {
     "data": {
      "text/html": [
       "<div>\n",
       "<style scoped>\n",
       "    .dataframe tbody tr th:only-of-type {\n",
       "        vertical-align: middle;\n",
       "    }\n",
       "\n",
       "    .dataframe tbody tr th {\n",
       "        vertical-align: top;\n",
       "    }\n",
       "\n",
       "    .dataframe thead th {\n",
       "        text-align: right;\n",
       "    }\n",
       "</style>\n",
       "<table border=\"1\" class=\"dataframe\">\n",
       "  <thead>\n",
       "    <tr style=\"text-align: right;\">\n",
       "      <th></th>\n",
       "      <th>title</th>\n",
       "      <th>tag_counts</th>\n",
       "      <th>VBD</th>\n",
       "      <th>VBZ</th>\n",
       "      <th>WDT</th>\n",
       "      <th>DT</th>\n",
       "      <th>CC</th>\n",
       "      <th>POS</th>\n",
       "      <th>RB</th>\n",
       "      <th>PRP</th>\n",
       "      <th>...</th>\n",
       "      <th>WP</th>\n",
       "      <th>TO</th>\n",
       "      <th>VBP</th>\n",
       "      <th>RBR</th>\n",
       "      <th>NNPS</th>\n",
       "      <th>VBN</th>\n",
       "      <th>JJ</th>\n",
       "      <th>VB</th>\n",
       "      <th>FW</th>\n",
       "      <th>Status</th>\n",
       "    </tr>\n",
       "  </thead>\n",
       "  <tbody>\n",
       "    <tr>\n",
       "      <th>0</th>\n",
       "      <td>[(As, IN), (U.S., NNP), (budget, NN), (fight, ...</td>\n",
       "      <td>{'IN': 1, 'NNP': 1, 'NN': 4, 'NNPS': 1, 'VBP':...</td>\n",
       "      <td>0</td>\n",
       "      <td>0</td>\n",
       "      <td>0</td>\n",
       "      <td>0</td>\n",
       "      <td>0</td>\n",
       "      <td>0</td>\n",
       "      <td>0</td>\n",
       "      <td>0</td>\n",
       "      <td>...</td>\n",
       "      <td>0</td>\n",
       "      <td>0</td>\n",
       "      <td>1</td>\n",
       "      <td>0</td>\n",
       "      <td>1</td>\n",
       "      <td>0</td>\n",
       "      <td>1</td>\n",
       "      <td>0</td>\n",
       "      <td>0</td>\n",
       "      <td>True</td>\n",
       "    </tr>\n",
       "    <tr>\n",
       "      <th>1</th>\n",
       "      <td>[(U.S., NNP), (military, JJ), (to, TO), (accep...</td>\n",
       "      <td>{'NNP': 3, 'JJ': 1, 'TO': 1, 'VB': 1, 'NN': 1,...</td>\n",
       "      <td>0</td>\n",
       "      <td>0</td>\n",
       "      <td>0</td>\n",
       "      <td>0</td>\n",
       "      <td>0</td>\n",
       "      <td>0</td>\n",
       "      <td>0</td>\n",
       "      <td>0</td>\n",
       "      <td>...</td>\n",
       "      <td>0</td>\n",
       "      <td>1</td>\n",
       "      <td>0</td>\n",
       "      <td>0</td>\n",
       "      <td>0</td>\n",
       "      <td>0</td>\n",
       "      <td>1</td>\n",
       "      <td>1</td>\n",
       "      <td>0</td>\n",
       "      <td>True</td>\n",
       "    </tr>\n",
       "    <tr>\n",
       "      <th>2</th>\n",
       "      <td>[(Senior, JJ), (U.S., NNP), (Republican, NNP),...</td>\n",
       "      <td>{'JJ': 1, 'NNP': 4, 'NN': 2, 'POS': 1, 'VB': 1...</td>\n",
       "      <td>0</td>\n",
       "      <td>0</td>\n",
       "      <td>0</td>\n",
       "      <td>0</td>\n",
       "      <td>0</td>\n",
       "      <td>1</td>\n",
       "      <td>0</td>\n",
       "      <td>0</td>\n",
       "      <td>...</td>\n",
       "      <td>0</td>\n",
       "      <td>0</td>\n",
       "      <td>0</td>\n",
       "      <td>0</td>\n",
       "      <td>0</td>\n",
       "      <td>0</td>\n",
       "      <td>1</td>\n",
       "      <td>1</td>\n",
       "      <td>0</td>\n",
       "      <td>True</td>\n",
       "    </tr>\n",
       "    <tr>\n",
       "      <th>3</th>\n",
       "      <td>[(FBI, NNP), (Russia, NNP), (probe, NN), (help...</td>\n",
       "      <td>{'NNP': 3, 'NN': 2, 'VBD': 1, 'IN': 1, 'JJ': 2}</td>\n",
       "      <td>1</td>\n",
       "      <td>0</td>\n",
       "      <td>0</td>\n",
       "      <td>0</td>\n",
       "      <td>0</td>\n",
       "      <td>0</td>\n",
       "      <td>0</td>\n",
       "      <td>0</td>\n",
       "      <td>...</td>\n",
       "      <td>0</td>\n",
       "      <td>0</td>\n",
       "      <td>0</td>\n",
       "      <td>0</td>\n",
       "      <td>0</td>\n",
       "      <td>0</td>\n",
       "      <td>2</td>\n",
       "      <td>0</td>\n",
       "      <td>0</td>\n",
       "      <td>True</td>\n",
       "    </tr>\n",
       "    <tr>\n",
       "      <th>4</th>\n",
       "      <td>[(Trump, NN), (wants, VBZ), (Postal, NNP), (Se...</td>\n",
       "      <td>{'NN': 2, 'VBZ': 1, 'NNP': 3, 'TO': 1, 'VB': 1...</td>\n",
       "      <td>0</td>\n",
       "      <td>1</td>\n",
       "      <td>0</td>\n",
       "      <td>0</td>\n",
       "      <td>0</td>\n",
       "      <td>0</td>\n",
       "      <td>0</td>\n",
       "      <td>0</td>\n",
       "      <td>...</td>\n",
       "      <td>0</td>\n",
       "      <td>1</td>\n",
       "      <td>0</td>\n",
       "      <td>0</td>\n",
       "      <td>0</td>\n",
       "      <td>0</td>\n",
       "      <td>1</td>\n",
       "      <td>1</td>\n",
       "      <td>0</td>\n",
       "      <td>True</td>\n",
       "    </tr>\n",
       "  </tbody>\n",
       "</table>\n",
       "<p>5 rows × 40 columns</p>\n",
       "</div>"
      ],
      "text/plain": [
       "                                               title  \\\n",
       "0  [(As, IN), (U.S., NNP), (budget, NN), (fight, ...   \n",
       "1  [(U.S., NNP), (military, JJ), (to, TO), (accep...   \n",
       "2  [(Senior, JJ), (U.S., NNP), (Republican, NNP),...   \n",
       "3  [(FBI, NNP), (Russia, NNP), (probe, NN), (help...   \n",
       "4  [(Trump, NN), (wants, VBZ), (Postal, NNP), (Se...   \n",
       "\n",
       "                                          tag_counts  VBD  VBZ  WDT  DT  CC  \\\n",
       "0  {'IN': 1, 'NNP': 1, 'NN': 4, 'NNPS': 1, 'VBP':...    0    0    0   0   0   \n",
       "1  {'NNP': 3, 'JJ': 1, 'TO': 1, 'VB': 1, 'NN': 1,...    0    0    0   0   0   \n",
       "2  {'JJ': 1, 'NNP': 4, 'NN': 2, 'POS': 1, 'VB': 1...    0    0    0   0   0   \n",
       "3    {'NNP': 3, 'NN': 2, 'VBD': 1, 'IN': 1, 'JJ': 2}    1    0    0   0   0   \n",
       "4  {'NN': 2, 'VBZ': 1, 'NNP': 3, 'TO': 1, 'VB': 1...    0    1    0   0   0   \n",
       "\n",
       "   POS  RB  PRP  ...  WP  TO  VBP  RBR  NNPS  VBN  JJ  VB  FW  Status  \n",
       "0    0   0    0  ...   0   0    1    0     1    0   1   0   0    True  \n",
       "1    0   0    0  ...   0   1    0    0     0    0   1   1   0    True  \n",
       "2    1   0    0  ...   0   0    0    0     0    0   1   1   0    True  \n",
       "3    0   0    0  ...   0   0    0    0     0    0   2   0   0    True  \n",
       "4    0   0    0  ...   0   1    0    0     0    0   1   1   0    True  \n",
       "\n",
       "[5 rows x 40 columns]"
      ]
     },
     "execution_count": 47,
     "metadata": {},
     "output_type": "execute_result"
    }
   ],
   "source": [
    "data.head()"
   ]
  },
  {
   "cell_type": "markdown",
   "metadata": {},
   "source": [
    "### Drop the 'title' and 'tag_counts' columns so only features (x values) and status (y value) are left"
   ]
  },
  {
   "cell_type": "code",
   "execution_count": 48,
   "metadata": {},
   "outputs": [],
   "source": [
    "data = data.drop(columns=['title', 'tag_counts'])"
   ]
  },
  {
   "cell_type": "markdown",
   "metadata": {},
   "source": [
    "### Drop punctuation features (outside the scope of our research question)"
   ]
  },
  {
   "cell_type": "code",
   "execution_count": 49,
   "metadata": {},
   "outputs": [
    {
     "name": "stdout",
     "output_type": "stream",
     "text": [
      "VBD\n",
      "VBZ\n",
      "WDT\n",
      "DT\n",
      "CC\n",
      "POS\n",
      "RB\n",
      "PRP\n",
      "WRB\n",
      ",\n",
      "RP\n",
      "UH\n",
      "IN\n",
      "JJS\n",
      "$\n",
      "NNS\n",
      "PDT\n",
      "VBG\n",
      "NN\n",
      ":\n",
      "EX\n",
      "NNP\n",
      "JJR\n",
      "MD\n",
      "PRP$\n",
      "CD\n",
      "''\n",
      "RBS\n",
      "WP\n",
      "TO\n",
      "VBP\n",
      "RBR\n",
      "NNPS\n",
      "VBN\n",
      "JJ\n",
      "VB\n",
      "FW\n",
      "Status\n"
     ]
    }
   ],
   "source": [
    "for col in data.columns:\n",
    "    print(col)"
   ]
  },
  {
   "cell_type": "code",
   "execution_count": 50,
   "metadata": {
    "scrolled": false
   },
   "outputs": [],
   "source": [
    "data = data.drop(columns=[\",\", \":\", \"\\'\\'\", \"$\"])"
   ]
  },
  {
   "cell_type": "code",
   "execution_count": 53,
   "metadata": {},
   "outputs": [],
   "source": [
    "# for col in data.columns:\n",
    "#     print(col)"
   ]
  },
  {
   "cell_type": "markdown",
   "metadata": {},
   "source": [
    "## Dataset #1"
   ]
  },
  {
   "cell_type": "code",
   "execution_count": 52,
   "metadata": {},
   "outputs": [],
   "source": [
    "original = data.copy()"
   ]
  },
  {
   "cell_type": "code",
   "execution_count": 54,
   "metadata": {},
   "outputs": [
    {
     "data": {
      "text/html": [
       "<div>\n",
       "<style scoped>\n",
       "    .dataframe tbody tr th:only-of-type {\n",
       "        vertical-align: middle;\n",
       "    }\n",
       "\n",
       "    .dataframe tbody tr th {\n",
       "        vertical-align: top;\n",
       "    }\n",
       "\n",
       "    .dataframe thead th {\n",
       "        text-align: right;\n",
       "    }\n",
       "</style>\n",
       "<table border=\"1\" class=\"dataframe\">\n",
       "  <thead>\n",
       "    <tr style=\"text-align: right;\">\n",
       "      <th></th>\n",
       "      <th>VBD</th>\n",
       "      <th>VBZ</th>\n",
       "      <th>WDT</th>\n",
       "      <th>DT</th>\n",
       "      <th>CC</th>\n",
       "      <th>POS</th>\n",
       "      <th>RB</th>\n",
       "      <th>PRP</th>\n",
       "      <th>WRB</th>\n",
       "      <th>RP</th>\n",
       "      <th>...</th>\n",
       "      <th>WP</th>\n",
       "      <th>TO</th>\n",
       "      <th>VBP</th>\n",
       "      <th>RBR</th>\n",
       "      <th>NNPS</th>\n",
       "      <th>VBN</th>\n",
       "      <th>JJ</th>\n",
       "      <th>VB</th>\n",
       "      <th>FW</th>\n",
       "      <th>Status</th>\n",
       "    </tr>\n",
       "  </thead>\n",
       "  <tbody>\n",
       "    <tr>\n",
       "      <th>0</th>\n",
       "      <td>0</td>\n",
       "      <td>0</td>\n",
       "      <td>0</td>\n",
       "      <td>0</td>\n",
       "      <td>0</td>\n",
       "      <td>0</td>\n",
       "      <td>0</td>\n",
       "      <td>0</td>\n",
       "      <td>0</td>\n",
       "      <td>0</td>\n",
       "      <td>...</td>\n",
       "      <td>0</td>\n",
       "      <td>0</td>\n",
       "      <td>1</td>\n",
       "      <td>0</td>\n",
       "      <td>1</td>\n",
       "      <td>0</td>\n",
       "      <td>1</td>\n",
       "      <td>0</td>\n",
       "      <td>0</td>\n",
       "      <td>True</td>\n",
       "    </tr>\n",
       "    <tr>\n",
       "      <th>1</th>\n",
       "      <td>0</td>\n",
       "      <td>0</td>\n",
       "      <td>0</td>\n",
       "      <td>0</td>\n",
       "      <td>0</td>\n",
       "      <td>0</td>\n",
       "      <td>0</td>\n",
       "      <td>0</td>\n",
       "      <td>0</td>\n",
       "      <td>0</td>\n",
       "      <td>...</td>\n",
       "      <td>0</td>\n",
       "      <td>1</td>\n",
       "      <td>0</td>\n",
       "      <td>0</td>\n",
       "      <td>0</td>\n",
       "      <td>0</td>\n",
       "      <td>1</td>\n",
       "      <td>1</td>\n",
       "      <td>0</td>\n",
       "      <td>True</td>\n",
       "    </tr>\n",
       "    <tr>\n",
       "      <th>2</th>\n",
       "      <td>0</td>\n",
       "      <td>0</td>\n",
       "      <td>0</td>\n",
       "      <td>0</td>\n",
       "      <td>0</td>\n",
       "      <td>1</td>\n",
       "      <td>0</td>\n",
       "      <td>0</td>\n",
       "      <td>0</td>\n",
       "      <td>0</td>\n",
       "      <td>...</td>\n",
       "      <td>0</td>\n",
       "      <td>0</td>\n",
       "      <td>0</td>\n",
       "      <td>0</td>\n",
       "      <td>0</td>\n",
       "      <td>0</td>\n",
       "      <td>1</td>\n",
       "      <td>1</td>\n",
       "      <td>0</td>\n",
       "      <td>True</td>\n",
       "    </tr>\n",
       "    <tr>\n",
       "      <th>3</th>\n",
       "      <td>1</td>\n",
       "      <td>0</td>\n",
       "      <td>0</td>\n",
       "      <td>0</td>\n",
       "      <td>0</td>\n",
       "      <td>0</td>\n",
       "      <td>0</td>\n",
       "      <td>0</td>\n",
       "      <td>0</td>\n",
       "      <td>0</td>\n",
       "      <td>...</td>\n",
       "      <td>0</td>\n",
       "      <td>0</td>\n",
       "      <td>0</td>\n",
       "      <td>0</td>\n",
       "      <td>0</td>\n",
       "      <td>0</td>\n",
       "      <td>2</td>\n",
       "      <td>0</td>\n",
       "      <td>0</td>\n",
       "      <td>True</td>\n",
       "    </tr>\n",
       "    <tr>\n",
       "      <th>4</th>\n",
       "      <td>0</td>\n",
       "      <td>1</td>\n",
       "      <td>0</td>\n",
       "      <td>0</td>\n",
       "      <td>0</td>\n",
       "      <td>0</td>\n",
       "      <td>0</td>\n",
       "      <td>0</td>\n",
       "      <td>0</td>\n",
       "      <td>0</td>\n",
       "      <td>...</td>\n",
       "      <td>0</td>\n",
       "      <td>1</td>\n",
       "      <td>0</td>\n",
       "      <td>0</td>\n",
       "      <td>0</td>\n",
       "      <td>0</td>\n",
       "      <td>1</td>\n",
       "      <td>1</td>\n",
       "      <td>0</td>\n",
       "      <td>True</td>\n",
       "    </tr>\n",
       "    <tr>\n",
       "      <th>...</th>\n",
       "      <td>...</td>\n",
       "      <td>...</td>\n",
       "      <td>...</td>\n",
       "      <td>...</td>\n",
       "      <td>...</td>\n",
       "      <td>...</td>\n",
       "      <td>...</td>\n",
       "      <td>...</td>\n",
       "      <td>...</td>\n",
       "      <td>...</td>\n",
       "      <td>...</td>\n",
       "      <td>...</td>\n",
       "      <td>...</td>\n",
       "      <td>...</td>\n",
       "      <td>...</td>\n",
       "      <td>...</td>\n",
       "      <td>...</td>\n",
       "      <td>...</td>\n",
       "      <td>...</td>\n",
       "      <td>...</td>\n",
       "      <td>...</td>\n",
       "    </tr>\n",
       "    <tr>\n",
       "      <th>23476</th>\n",
       "      <td>1</td>\n",
       "      <td>0</td>\n",
       "      <td>0</td>\n",
       "      <td>0</td>\n",
       "      <td>0</td>\n",
       "      <td>0</td>\n",
       "      <td>0</td>\n",
       "      <td>0</td>\n",
       "      <td>0</td>\n",
       "      <td>0</td>\n",
       "      <td>...</td>\n",
       "      <td>0</td>\n",
       "      <td>0</td>\n",
       "      <td>0</td>\n",
       "      <td>0</td>\n",
       "      <td>0</td>\n",
       "      <td>0</td>\n",
       "      <td>0</td>\n",
       "      <td>0</td>\n",
       "      <td>0</td>\n",
       "      <td>Fake</td>\n",
       "    </tr>\n",
       "    <tr>\n",
       "      <th>23477</th>\n",
       "      <td>0</td>\n",
       "      <td>0</td>\n",
       "      <td>0</td>\n",
       "      <td>0</td>\n",
       "      <td>0</td>\n",
       "      <td>0</td>\n",
       "      <td>0</td>\n",
       "      <td>0</td>\n",
       "      <td>0</td>\n",
       "      <td>0</td>\n",
       "      <td>...</td>\n",
       "      <td>0</td>\n",
       "      <td>0</td>\n",
       "      <td>0</td>\n",
       "      <td>0</td>\n",
       "      <td>0</td>\n",
       "      <td>0</td>\n",
       "      <td>0</td>\n",
       "      <td>0</td>\n",
       "      <td>0</td>\n",
       "      <td>Fake</td>\n",
       "    </tr>\n",
       "    <tr>\n",
       "      <th>23478</th>\n",
       "      <td>0</td>\n",
       "      <td>0</td>\n",
       "      <td>0</td>\n",
       "      <td>0</td>\n",
       "      <td>1</td>\n",
       "      <td>0</td>\n",
       "      <td>0</td>\n",
       "      <td>0</td>\n",
       "      <td>0</td>\n",
       "      <td>0</td>\n",
       "      <td>...</td>\n",
       "      <td>0</td>\n",
       "      <td>1</td>\n",
       "      <td>0</td>\n",
       "      <td>0</td>\n",
       "      <td>0</td>\n",
       "      <td>0</td>\n",
       "      <td>0</td>\n",
       "      <td>1</td>\n",
       "      <td>0</td>\n",
       "      <td>Fake</td>\n",
       "    </tr>\n",
       "    <tr>\n",
       "      <th>23479</th>\n",
       "      <td>0</td>\n",
       "      <td>2</td>\n",
       "      <td>0</td>\n",
       "      <td>0</td>\n",
       "      <td>0</td>\n",
       "      <td>0</td>\n",
       "      <td>0</td>\n",
       "      <td>1</td>\n",
       "      <td>1</td>\n",
       "      <td>0</td>\n",
       "      <td>...</td>\n",
       "      <td>0</td>\n",
       "      <td>1</td>\n",
       "      <td>0</td>\n",
       "      <td>0</td>\n",
       "      <td>0</td>\n",
       "      <td>0</td>\n",
       "      <td>0</td>\n",
       "      <td>1</td>\n",
       "      <td>0</td>\n",
       "      <td>Fake</td>\n",
       "    </tr>\n",
       "    <tr>\n",
       "      <th>23480</th>\n",
       "      <td>0</td>\n",
       "      <td>0</td>\n",
       "      <td>0</td>\n",
       "      <td>1</td>\n",
       "      <td>0</td>\n",
       "      <td>0</td>\n",
       "      <td>0</td>\n",
       "      <td>0</td>\n",
       "      <td>0</td>\n",
       "      <td>0</td>\n",
       "      <td>...</td>\n",
       "      <td>0</td>\n",
       "      <td>0</td>\n",
       "      <td>0</td>\n",
       "      <td>0</td>\n",
       "      <td>0</td>\n",
       "      <td>0</td>\n",
       "      <td>1</td>\n",
       "      <td>0</td>\n",
       "      <td>0</td>\n",
       "      <td>Fake</td>\n",
       "    </tr>\n",
       "  </tbody>\n",
       "</table>\n",
       "<p>44898 rows × 34 columns</p>\n",
       "</div>"
      ],
      "text/plain": [
       "       VBD  VBZ  WDT  DT  CC  POS  RB  PRP  WRB  RP  ...  WP  TO  VBP  RBR  \\\n",
       "0        0    0    0   0   0    0   0    0    0   0  ...   0   0    1    0   \n",
       "1        0    0    0   0   0    0   0    0    0   0  ...   0   1    0    0   \n",
       "2        0    0    0   0   0    1   0    0    0   0  ...   0   0    0    0   \n",
       "3        1    0    0   0   0    0   0    0    0   0  ...   0   0    0    0   \n",
       "4        0    1    0   0   0    0   0    0    0   0  ...   0   1    0    0   \n",
       "...    ...  ...  ...  ..  ..  ...  ..  ...  ...  ..  ...  ..  ..  ...  ...   \n",
       "23476    1    0    0   0   0    0   0    0    0   0  ...   0   0    0    0   \n",
       "23477    0    0    0   0   0    0   0    0    0   0  ...   0   0    0    0   \n",
       "23478    0    0    0   0   1    0   0    0    0   0  ...   0   1    0    0   \n",
       "23479    0    2    0   0   0    0   0    1    1   0  ...   0   1    0    0   \n",
       "23480    0    0    0   1   0    0   0    0    0   0  ...   0   0    0    0   \n",
       "\n",
       "       NNPS  VBN  JJ  VB  FW  Status  \n",
       "0         1    0   1   0   0    True  \n",
       "1         0    0   1   1   0    True  \n",
       "2         0    0   1   1   0    True  \n",
       "3         0    0   2   0   0    True  \n",
       "4         0    0   1   1   0    True  \n",
       "...     ...  ...  ..  ..  ..     ...  \n",
       "23476     0    0   0   0   0    Fake  \n",
       "23477     0    0   0   0   0    Fake  \n",
       "23478     0    0   0   1   0    Fake  \n",
       "23479     0    0   0   1   0    Fake  \n",
       "23480     0    0   1   0   0    Fake  \n",
       "\n",
       "[44898 rows x 34 columns]"
      ]
     },
     "execution_count": 54,
     "metadata": {},
     "output_type": "execute_result"
    }
   ],
   "source": [
    "original"
   ]
  },
  {
   "cell_type": "markdown",
   "metadata": {},
   "source": [
    "### Add syntax column"
   ]
  },
  {
   "cell_type": "markdown",
   "metadata": {},
   "source": [
    "## Dataset #2"
   ]
  },
  {
   "cell_type": "code",
   "execution_count": 56,
   "metadata": {},
   "outputs": [],
   "source": [
    "data.insert(loc=33, column='Syntax', value=syntax)"
   ]
  },
  {
   "cell_type": "code",
   "execution_count": 57,
   "metadata": {},
   "outputs": [],
   "source": [
    "new = data.copy()"
   ]
  },
  {
   "cell_type": "code",
   "execution_count": 58,
   "metadata": {},
   "outputs": [
    {
     "data": {
      "text/html": [
       "<div>\n",
       "<style scoped>\n",
       "    .dataframe tbody tr th:only-of-type {\n",
       "        vertical-align: middle;\n",
       "    }\n",
       "\n",
       "    .dataframe tbody tr th {\n",
       "        vertical-align: top;\n",
       "    }\n",
       "\n",
       "    .dataframe thead th {\n",
       "        text-align: right;\n",
       "    }\n",
       "</style>\n",
       "<table border=\"1\" class=\"dataframe\">\n",
       "  <thead>\n",
       "    <tr style=\"text-align: right;\">\n",
       "      <th></th>\n",
       "      <th>VBD</th>\n",
       "      <th>VBZ</th>\n",
       "      <th>WDT</th>\n",
       "      <th>DT</th>\n",
       "      <th>CC</th>\n",
       "      <th>POS</th>\n",
       "      <th>RB</th>\n",
       "      <th>PRP</th>\n",
       "      <th>WRB</th>\n",
       "      <th>RP</th>\n",
       "      <th>...</th>\n",
       "      <th>TO</th>\n",
       "      <th>VBP</th>\n",
       "      <th>RBR</th>\n",
       "      <th>NNPS</th>\n",
       "      <th>VBN</th>\n",
       "      <th>JJ</th>\n",
       "      <th>VB</th>\n",
       "      <th>FW</th>\n",
       "      <th>Syntax</th>\n",
       "      <th>Status</th>\n",
       "    </tr>\n",
       "  </thead>\n",
       "  <tbody>\n",
       "    <tr>\n",
       "      <th>0</th>\n",
       "      <td>0</td>\n",
       "      <td>0</td>\n",
       "      <td>0</td>\n",
       "      <td>0</td>\n",
       "      <td>0</td>\n",
       "      <td>0</td>\n",
       "      <td>0</td>\n",
       "      <td>0</td>\n",
       "      <td>0</td>\n",
       "      <td>0</td>\n",
       "      <td>...</td>\n",
       "      <td>0</td>\n",
       "      <td>1</td>\n",
       "      <td>0</td>\n",
       "      <td>1</td>\n",
       "      <td>0</td>\n",
       "      <td>1</td>\n",
       "      <td>0</td>\n",
       "      <td>0</td>\n",
       "      <td>1745</td>\n",
       "      <td>True</td>\n",
       "    </tr>\n",
       "    <tr>\n",
       "      <th>1</th>\n",
       "      <td>0</td>\n",
       "      <td>0</td>\n",
       "      <td>0</td>\n",
       "      <td>0</td>\n",
       "      <td>0</td>\n",
       "      <td>0</td>\n",
       "      <td>0</td>\n",
       "      <td>0</td>\n",
       "      <td>0</td>\n",
       "      <td>0</td>\n",
       "      <td>...</td>\n",
       "      <td>1</td>\n",
       "      <td>0</td>\n",
       "      <td>0</td>\n",
       "      <td>0</td>\n",
       "      <td>0</td>\n",
       "      <td>1</td>\n",
       "      <td>1</td>\n",
       "      <td>0</td>\n",
       "      <td>9176</td>\n",
       "      <td>True</td>\n",
       "    </tr>\n",
       "    <tr>\n",
       "      <th>2</th>\n",
       "      <td>0</td>\n",
       "      <td>0</td>\n",
       "      <td>0</td>\n",
       "      <td>0</td>\n",
       "      <td>0</td>\n",
       "      <td>1</td>\n",
       "      <td>0</td>\n",
       "      <td>0</td>\n",
       "      <td>0</td>\n",
       "      <td>0</td>\n",
       "      <td>...</td>\n",
       "      <td>0</td>\n",
       "      <td>0</td>\n",
       "      <td>0</td>\n",
       "      <td>0</td>\n",
       "      <td>0</td>\n",
       "      <td>1</td>\n",
       "      <td>1</td>\n",
       "      <td>0</td>\n",
       "      <td>3856</td>\n",
       "      <td>True</td>\n",
       "    </tr>\n",
       "    <tr>\n",
       "      <th>3</th>\n",
       "      <td>1</td>\n",
       "      <td>0</td>\n",
       "      <td>0</td>\n",
       "      <td>0</td>\n",
       "      <td>0</td>\n",
       "      <td>0</td>\n",
       "      <td>0</td>\n",
       "      <td>0</td>\n",
       "      <td>0</td>\n",
       "      <td>0</td>\n",
       "      <td>...</td>\n",
       "      <td>0</td>\n",
       "      <td>0</td>\n",
       "      <td>0</td>\n",
       "      <td>0</td>\n",
       "      <td>0</td>\n",
       "      <td>2</td>\n",
       "      <td>0</td>\n",
       "      <td>0</td>\n",
       "      <td>13660</td>\n",
       "      <td>True</td>\n",
       "    </tr>\n",
       "    <tr>\n",
       "      <th>4</th>\n",
       "      <td>0</td>\n",
       "      <td>1</td>\n",
       "      <td>0</td>\n",
       "      <td>0</td>\n",
       "      <td>0</td>\n",
       "      <td>0</td>\n",
       "      <td>0</td>\n",
       "      <td>0</td>\n",
       "      <td>0</td>\n",
       "      <td>0</td>\n",
       "      <td>...</td>\n",
       "      <td>1</td>\n",
       "      <td>0</td>\n",
       "      <td>0</td>\n",
       "      <td>0</td>\n",
       "      <td>0</td>\n",
       "      <td>1</td>\n",
       "      <td>1</td>\n",
       "      <td>0</td>\n",
       "      <td>7795</td>\n",
       "      <td>True</td>\n",
       "    </tr>\n",
       "    <tr>\n",
       "      <th>...</th>\n",
       "      <td>...</td>\n",
       "      <td>...</td>\n",
       "      <td>...</td>\n",
       "      <td>...</td>\n",
       "      <td>...</td>\n",
       "      <td>...</td>\n",
       "      <td>...</td>\n",
       "      <td>...</td>\n",
       "      <td>...</td>\n",
       "      <td>...</td>\n",
       "      <td>...</td>\n",
       "      <td>...</td>\n",
       "      <td>...</td>\n",
       "      <td>...</td>\n",
       "      <td>...</td>\n",
       "      <td>...</td>\n",
       "      <td>...</td>\n",
       "      <td>...</td>\n",
       "      <td>...</td>\n",
       "      <td>...</td>\n",
       "      <td>...</td>\n",
       "    </tr>\n",
       "    <tr>\n",
       "      <th>23476</th>\n",
       "      <td>1</td>\n",
       "      <td>0</td>\n",
       "      <td>0</td>\n",
       "      <td>0</td>\n",
       "      <td>0</td>\n",
       "      <td>0</td>\n",
       "      <td>0</td>\n",
       "      <td>0</td>\n",
       "      <td>0</td>\n",
       "      <td>0</td>\n",
       "      <td>...</td>\n",
       "      <td>0</td>\n",
       "      <td>0</td>\n",
       "      <td>0</td>\n",
       "      <td>0</td>\n",
       "      <td>0</td>\n",
       "      <td>0</td>\n",
       "      <td>0</td>\n",
       "      <td>0</td>\n",
       "      <td>1026</td>\n",
       "      <td>Fake</td>\n",
       "    </tr>\n",
       "    <tr>\n",
       "      <th>23477</th>\n",
       "      <td>0</td>\n",
       "      <td>0</td>\n",
       "      <td>0</td>\n",
       "      <td>0</td>\n",
       "      <td>0</td>\n",
       "      <td>0</td>\n",
       "      <td>0</td>\n",
       "      <td>0</td>\n",
       "      <td>0</td>\n",
       "      <td>0</td>\n",
       "      <td>...</td>\n",
       "      <td>0</td>\n",
       "      <td>0</td>\n",
       "      <td>0</td>\n",
       "      <td>0</td>\n",
       "      <td>0</td>\n",
       "      <td>0</td>\n",
       "      <td>0</td>\n",
       "      <td>0</td>\n",
       "      <td>32001</td>\n",
       "      <td>Fake</td>\n",
       "    </tr>\n",
       "    <tr>\n",
       "      <th>23478</th>\n",
       "      <td>0</td>\n",
       "      <td>0</td>\n",
       "      <td>0</td>\n",
       "      <td>0</td>\n",
       "      <td>1</td>\n",
       "      <td>0</td>\n",
       "      <td>0</td>\n",
       "      <td>0</td>\n",
       "      <td>0</td>\n",
       "      <td>0</td>\n",
       "      <td>...</td>\n",
       "      <td>1</td>\n",
       "      <td>0</td>\n",
       "      <td>0</td>\n",
       "      <td>0</td>\n",
       "      <td>0</td>\n",
       "      <td>0</td>\n",
       "      <td>1</td>\n",
       "      <td>0</td>\n",
       "      <td>35220</td>\n",
       "      <td>Fake</td>\n",
       "    </tr>\n",
       "    <tr>\n",
       "      <th>23479</th>\n",
       "      <td>0</td>\n",
       "      <td>2</td>\n",
       "      <td>0</td>\n",
       "      <td>0</td>\n",
       "      <td>0</td>\n",
       "      <td>0</td>\n",
       "      <td>0</td>\n",
       "      <td>1</td>\n",
       "      <td>1</td>\n",
       "      <td>0</td>\n",
       "      <td>...</td>\n",
       "      <td>1</td>\n",
       "      <td>0</td>\n",
       "      <td>0</td>\n",
       "      <td>0</td>\n",
       "      <td>0</td>\n",
       "      <td>0</td>\n",
       "      <td>1</td>\n",
       "      <td>0</td>\n",
       "      <td>14185</td>\n",
       "      <td>Fake</td>\n",
       "    </tr>\n",
       "    <tr>\n",
       "      <th>23480</th>\n",
       "      <td>0</td>\n",
       "      <td>0</td>\n",
       "      <td>0</td>\n",
       "      <td>1</td>\n",
       "      <td>0</td>\n",
       "      <td>0</td>\n",
       "      <td>0</td>\n",
       "      <td>0</td>\n",
       "      <td>0</td>\n",
       "      <td>0</td>\n",
       "      <td>...</td>\n",
       "      <td>0</td>\n",
       "      <td>0</td>\n",
       "      <td>0</td>\n",
       "      <td>0</td>\n",
       "      <td>0</td>\n",
       "      <td>1</td>\n",
       "      <td>0</td>\n",
       "      <td>0</td>\n",
       "      <td>3013</td>\n",
       "      <td>Fake</td>\n",
       "    </tr>\n",
       "  </tbody>\n",
       "</table>\n",
       "<p>44898 rows × 35 columns</p>\n",
       "</div>"
      ],
      "text/plain": [
       "       VBD  VBZ  WDT  DT  CC  POS  RB  PRP  WRB  RP  ...  TO  VBP  RBR  NNPS  \\\n",
       "0        0    0    0   0   0    0   0    0    0   0  ...   0    1    0     1   \n",
       "1        0    0    0   0   0    0   0    0    0   0  ...   1    0    0     0   \n",
       "2        0    0    0   0   0    1   0    0    0   0  ...   0    0    0     0   \n",
       "3        1    0    0   0   0    0   0    0    0   0  ...   0    0    0     0   \n",
       "4        0    1    0   0   0    0   0    0    0   0  ...   1    0    0     0   \n",
       "...    ...  ...  ...  ..  ..  ...  ..  ...  ...  ..  ...  ..  ...  ...   ...   \n",
       "23476    1    0    0   0   0    0   0    0    0   0  ...   0    0    0     0   \n",
       "23477    0    0    0   0   0    0   0    0    0   0  ...   0    0    0     0   \n",
       "23478    0    0    0   0   1    0   0    0    0   0  ...   1    0    0     0   \n",
       "23479    0    2    0   0   0    0   0    1    1   0  ...   1    0    0     0   \n",
       "23480    0    0    0   1   0    0   0    0    0   0  ...   0    0    0     0   \n",
       "\n",
       "       VBN  JJ  VB  FW  Syntax  Status  \n",
       "0        0   1   0   0    1745    True  \n",
       "1        0   1   1   0    9176    True  \n",
       "2        0   1   1   0    3856    True  \n",
       "3        0   2   0   0   13660    True  \n",
       "4        0   1   1   0    7795    True  \n",
       "...    ...  ..  ..  ..     ...     ...  \n",
       "23476    0   0   0   0    1026    Fake  \n",
       "23477    0   0   0   0   32001    Fake  \n",
       "23478    0   0   1   0   35220    Fake  \n",
       "23479    0   0   1   0   14185    Fake  \n",
       "23480    0   1   0   0    3013    Fake  \n",
       "\n",
       "[44898 rows x 35 columns]"
      ]
     },
     "execution_count": 58,
     "metadata": {},
     "output_type": "execute_result"
    }
   ],
   "source": [
    "new"
   ]
  },
  {
   "cell_type": "code",
   "execution_count": 59,
   "metadata": {},
   "outputs": [],
   "source": [
    "# i = 0\n",
    "# for col in data.columns:\n",
    "#     print(col)\n",
    "#     i = i +1\n",
    "# print(i)"
   ]
  },
  {
   "cell_type": "markdown",
   "metadata": {},
   "source": [
    "### Train-test split"
   ]
  },
  {
   "cell_type": "code",
   "execution_count": 24,
   "metadata": {},
   "outputs": [],
   "source": [
    "def data_split_func(X,y):\n",
    "    X_train, X_test, y_train, y_test = train_test_split(X, y, test_size=0.2, random_state=0)\n",
    "    return X_train, X_test, y_train, y_test"
   ]
  },
  {
   "cell_type": "markdown",
   "metadata": {},
   "source": [
    "#### Distribution of True/Fake in the training set"
   ]
  },
  {
   "cell_type": "code",
   "execution_count": 25,
   "metadata": {},
   "outputs": [],
   "source": [
    "def value_counts(values, labels):\n",
    "    fig, ax = plt.subplots(figsize = (10,4))\n",
    "    plt.rc('font', size=12) \n",
    "    #plt.rcParams['figure.constrained_layout.use'] = True \n",
    "    xco = [0,1]\n",
    "#     plt.bar(xco,values)\n",
    "    plt.bar(0,4670,color=\"b\")\n",
    "    plt.bar(1,4310,color=\"r\")\n",
    "    plt.xticks(xco, labels)\n",
    "    plt.xlabel('Categories') \n",
    "    plt.ylabel('Count') \n",
    "    plt.title(\"Distribution of Output Classes in the Training dataset\")\n",
    "    plt.show()"
   ]
  },
  {
   "cell_type": "markdown",
   "metadata": {},
   "source": [
    "### Feature Importance"
   ]
  },
  {
   "cell_type": "code",
   "execution_count": 26,
   "metadata": {},
   "outputs": [],
   "source": [
    "# def feature_importance(model):\n",
    "    \n",
    "#     feature_imp = pd.Series(model.feature_importances_,index=X.columns).sort_values(ascending=False)\n",
    "#     print(feature_imp)\n",
    "#     # Creating a bar plot\n",
    "#     fig_dims = (10, 15)\n",
    "#     fig, ax = plt.subplots(figsize=fig_dims)\n",
    "#     sns.set(font_scale=1.25)\n",
    "#     sns.barplot(x=feature_imp, y=feature_imp.index,ax=ax)\n",
    "#     # Add labels to your graph\n",
    "#     plt.xlabel('Feature Importance Score')\n",
    "#     plt.ylabel('Features')\n",
    "#     plt.title(\"Visualizing Important Features\")\n",
    "#     plt.legend()\n",
    "#     plt.show()"
   ]
  },
  {
   "cell_type": "markdown",
   "metadata": {},
   "source": [
    "# HYPOTHESIS 1"
   ]
  },
  {
   "cell_type": "markdown",
   "metadata": {},
   "source": [
    "## Original Dataset"
   ]
  },
  {
   "cell_type": "markdown",
   "metadata": {},
   "source": [
    "#### X values (input features)"
   ]
  },
  {
   "cell_type": "code",
   "execution_count": 27,
   "metadata": {},
   "outputs": [],
   "source": [
    "# for i in range(0,37)\n",
    "X_original = original.iloc[:, : 37]"
   ]
  },
  {
   "cell_type": "code",
   "execution_count": 28,
   "metadata": {},
   "outputs": [
    {
     "data": {
      "text/html": [
       "<div>\n",
       "<style scoped>\n",
       "    .dataframe tbody tr th:only-of-type {\n",
       "        vertical-align: middle;\n",
       "    }\n",
       "\n",
       "    .dataframe tbody tr th {\n",
       "        vertical-align: top;\n",
       "    }\n",
       "\n",
       "    .dataframe thead th {\n",
       "        text-align: right;\n",
       "    }\n",
       "</style>\n",
       "<table border=\"1\" class=\"dataframe\">\n",
       "  <thead>\n",
       "    <tr style=\"text-align: right;\">\n",
       "      <th></th>\n",
       "      <th>VBD</th>\n",
       "      <th>VBZ</th>\n",
       "      <th>WDT</th>\n",
       "      <th>DT</th>\n",
       "      <th>CC</th>\n",
       "      <th>POS</th>\n",
       "      <th>RB</th>\n",
       "      <th>PRP</th>\n",
       "      <th>WRB</th>\n",
       "      <th>,</th>\n",
       "      <th>...</th>\n",
       "      <th>RBS</th>\n",
       "      <th>WP</th>\n",
       "      <th>TO</th>\n",
       "      <th>VBP</th>\n",
       "      <th>RBR</th>\n",
       "      <th>NNPS</th>\n",
       "      <th>VBN</th>\n",
       "      <th>JJ</th>\n",
       "      <th>VB</th>\n",
       "      <th>FW</th>\n",
       "    </tr>\n",
       "  </thead>\n",
       "  <tbody>\n",
       "    <tr>\n",
       "      <th>0</th>\n",
       "      <td>0</td>\n",
       "      <td>0</td>\n",
       "      <td>0</td>\n",
       "      <td>0</td>\n",
       "      <td>0</td>\n",
       "      <td>0</td>\n",
       "      <td>0</td>\n",
       "      <td>0</td>\n",
       "      <td>0</td>\n",
       "      <td>0</td>\n",
       "      <td>...</td>\n",
       "      <td>0</td>\n",
       "      <td>0</td>\n",
       "      <td>0</td>\n",
       "      <td>1</td>\n",
       "      <td>0</td>\n",
       "      <td>1</td>\n",
       "      <td>0</td>\n",
       "      <td>1</td>\n",
       "      <td>0</td>\n",
       "      <td>0</td>\n",
       "    </tr>\n",
       "    <tr>\n",
       "      <th>1</th>\n",
       "      <td>0</td>\n",
       "      <td>0</td>\n",
       "      <td>0</td>\n",
       "      <td>0</td>\n",
       "      <td>0</td>\n",
       "      <td>0</td>\n",
       "      <td>0</td>\n",
       "      <td>0</td>\n",
       "      <td>0</td>\n",
       "      <td>0</td>\n",
       "      <td>...</td>\n",
       "      <td>0</td>\n",
       "      <td>0</td>\n",
       "      <td>1</td>\n",
       "      <td>0</td>\n",
       "      <td>0</td>\n",
       "      <td>0</td>\n",
       "      <td>0</td>\n",
       "      <td>1</td>\n",
       "      <td>1</td>\n",
       "      <td>0</td>\n",
       "    </tr>\n",
       "    <tr>\n",
       "      <th>2</th>\n",
       "      <td>0</td>\n",
       "      <td>0</td>\n",
       "      <td>0</td>\n",
       "      <td>0</td>\n",
       "      <td>0</td>\n",
       "      <td>1</td>\n",
       "      <td>0</td>\n",
       "      <td>0</td>\n",
       "      <td>0</td>\n",
       "      <td>0</td>\n",
       "      <td>...</td>\n",
       "      <td>0</td>\n",
       "      <td>0</td>\n",
       "      <td>0</td>\n",
       "      <td>0</td>\n",
       "      <td>0</td>\n",
       "      <td>0</td>\n",
       "      <td>0</td>\n",
       "      <td>1</td>\n",
       "      <td>1</td>\n",
       "      <td>0</td>\n",
       "    </tr>\n",
       "    <tr>\n",
       "      <th>3</th>\n",
       "      <td>1</td>\n",
       "      <td>0</td>\n",
       "      <td>0</td>\n",
       "      <td>0</td>\n",
       "      <td>0</td>\n",
       "      <td>0</td>\n",
       "      <td>0</td>\n",
       "      <td>0</td>\n",
       "      <td>0</td>\n",
       "      <td>0</td>\n",
       "      <td>...</td>\n",
       "      <td>0</td>\n",
       "      <td>0</td>\n",
       "      <td>0</td>\n",
       "      <td>0</td>\n",
       "      <td>0</td>\n",
       "      <td>0</td>\n",
       "      <td>0</td>\n",
       "      <td>2</td>\n",
       "      <td>0</td>\n",
       "      <td>0</td>\n",
       "    </tr>\n",
       "    <tr>\n",
       "      <th>4</th>\n",
       "      <td>0</td>\n",
       "      <td>1</td>\n",
       "      <td>0</td>\n",
       "      <td>0</td>\n",
       "      <td>0</td>\n",
       "      <td>0</td>\n",
       "      <td>0</td>\n",
       "      <td>0</td>\n",
       "      <td>0</td>\n",
       "      <td>0</td>\n",
       "      <td>...</td>\n",
       "      <td>0</td>\n",
       "      <td>0</td>\n",
       "      <td>1</td>\n",
       "      <td>0</td>\n",
       "      <td>0</td>\n",
       "      <td>0</td>\n",
       "      <td>0</td>\n",
       "      <td>1</td>\n",
       "      <td>1</td>\n",
       "      <td>0</td>\n",
       "    </tr>\n",
       "  </tbody>\n",
       "</table>\n",
       "<p>5 rows × 37 columns</p>\n",
       "</div>"
      ],
      "text/plain": [
       "   VBD  VBZ  WDT  DT  CC  POS  RB  PRP  WRB  ,  ...  RBS  WP  TO  VBP  RBR  \\\n",
       "0    0    0    0   0   0    0   0    0    0  0  ...    0   0   0    1    0   \n",
       "1    0    0    0   0   0    0   0    0    0  0  ...    0   0   1    0    0   \n",
       "2    0    0    0   0   0    1   0    0    0  0  ...    0   0   0    0    0   \n",
       "3    1    0    0   0   0    0   0    0    0  0  ...    0   0   0    0    0   \n",
       "4    0    1    0   0   0    0   0    0    0  0  ...    0   0   1    0    0   \n",
       "\n",
       "   NNPS  VBN  JJ  VB  FW  \n",
       "0     1    0   1   0   0  \n",
       "1     0    0   1   1   0  \n",
       "2     0    0   1   1   0  \n",
       "3     0    0   2   0   0  \n",
       "4     0    0   1   1   0  \n",
       "\n",
       "[5 rows x 37 columns]"
      ]
     },
     "execution_count": 28,
     "metadata": {},
     "output_type": "execute_result"
    }
   ],
   "source": [
    "X_original.head()"
   ]
  },
  {
   "cell_type": "markdown",
   "metadata": {},
   "source": [
    "#### y value (prediction)"
   ]
  },
  {
   "cell_type": "code",
   "execution_count": 29,
   "metadata": {},
   "outputs": [],
   "source": [
    "y_original = original.iloc[:,37].values"
   ]
  },
  {
   "cell_type": "code",
   "execution_count": 30,
   "metadata": {},
   "outputs": [
    {
     "data": {
      "text/plain": [
       "array(['True', 'True', 'True', ..., 'Fake', 'Fake', 'Fake'], dtype=object)"
      ]
     },
     "execution_count": 30,
     "metadata": {},
     "output_type": "execute_result"
    }
   ],
   "source": [
    "y_original"
   ]
  },
  {
   "cell_type": "markdown",
   "metadata": {},
   "source": [
    "#### split dataset"
   ]
  },
  {
   "cell_type": "code",
   "execution_count": 31,
   "metadata": {},
   "outputs": [],
   "source": [
    "X_train_original, X_test_original, y_train_original, y_test_original = data_split_func(X_original,y_original)"
   ]
  },
  {
   "cell_type": "markdown",
   "metadata": {},
   "source": [
    "#### distribution of output classes"
   ]
  },
  {
   "cell_type": "code",
   "execution_count": 32,
   "metadata": {},
   "outputs": [
    {
     "data": {
      "text/plain": [
       "{'Fake': 4670, 'True': 4310}"
      ]
     },
     "execution_count": 32,
     "metadata": {},
     "output_type": "execute_result"
    }
   ],
   "source": [
    "unique, counts = np.unique(y_test_original, return_counts=True)\n",
    "dict(zip(unique, counts))"
   ]
  },
  {
   "cell_type": "code",
   "execution_count": 33,
   "metadata": {},
   "outputs": [
    {
     "data": {
      "image/png": "[encoded data removed]",
      "text/plain": [
       "<Figure size 720x288 with 1 Axes>"
      ]
     },
     "metadata": {
      "needs_background": "light"
     },
     "output_type": "display_data"
    }
   ],
   "source": [
    "value_counts(counts,[\"Fake\",\"True\"])"
   ]
  },
  {
   "cell_type": "markdown",
   "metadata": {},
   "source": [
    "## Random Forest"
   ]
  },
  {
   "cell_type": "markdown",
   "metadata": {},
   "source": [
    "### Cross-Validation"
   ]
  },
  {
   "cell_type": "code",
   "execution_count": 34,
   "metadata": {},
   "outputs": [],
   "source": [
    "# # https://jamesrledoux.com/code/grid_search\n",
    "# model_params = {\n",
    "#     'n_estimators': [50, 150, 250],\n",
    "#     'max_features': ['sqrt', 0.25, 0.5, 0.75, 1.0],\n",
    "#     'min_samples_split': [2, 4, 6]\n",
    "# }"
   ]
  },
  {
   "cell_type": "code",
   "execution_count": 35,
   "metadata": {},
   "outputs": [],
   "source": [
    "# rf_model = RandomForestClassifier(random_state=1)"
   ]
  },
  {
   "cell_type": "code",
   "execution_count": 36,
   "metadata": {},
   "outputs": [],
   "source": [
    "# clf = GridSearchCV(rf_model, model_params, cv=5)\n",
    "# model = clf.fit(X_train, y_train)"
   ]
  },
  {
   "cell_type": "code",
   "execution_count": 37,
   "metadata": {},
   "outputs": [],
   "source": [
    "# model.best_params_"
   ]
  },
  {
   "cell_type": "code",
   "execution_count": 38,
   "metadata": {},
   "outputs": [
    {
     "name": "stdout",
     "output_type": "stream",
     "text": [
      "Accuracy: 0.9750556792873051\n"
     ]
    }
   ],
   "source": [
    "rf_original=RandomForestClassifier(n_estimators=250, max_features='sqrt', min_samples_split=2)\n",
    "rf_original.fit(X_train_original,y_train_original)\n",
    "y_pred_original=rf_original.predict(X_test_original)\n",
    "print(\"Accuracy:\",metrics.accuracy_score(y_test_original, y_pred_original))"
   ]
  },
  {
   "cell_type": "code",
   "execution_count": 49,
   "metadata": {
    "scrolled": true
   },
   "outputs": [],
   "source": [
    "# feature_importance(rf_original)"
   ]
  },
  {
   "cell_type": "markdown",
   "metadata": {},
   "source": [
    "### kNN"
   ]
  },
  {
   "cell_type": "code",
   "execution_count": 41,
   "metadata": {},
   "outputs": [],
   "source": [
    "from sklearn.neighbors import KNeighborsClassifier"
   ]
  },
  {
   "cell_type": "code",
   "execution_count": null,
   "metadata": {},
   "outputs": [],
   "source": [
    "# model_params_knn = {\n",
    "#     'n_neighbors': [1,3,5,7,9]\n",
    "# }"
   ]
  },
  {
   "cell_type": "code",
   "execution_count": null,
   "metadata": {},
   "outputs": [],
   "source": [
    "# knn_titan = KNeighborsClassifier()"
   ]
  },
  {
   "cell_type": "code",
   "execution_count": null,
   "metadata": {},
   "outputs": [],
   "source": [
    "# clf_knn = GridSearchCV(knn_titan, model_params_knn, cv=5)\n",
    "# model_knn_1 = clf_knn.fit(X_train_original, y_train_original)"
   ]
  },
  {
   "cell_type": "code",
   "execution_count": null,
   "metadata": {},
   "outputs": [],
   "source": [
    "# model_knn_1.best_params_\n",
    "# n_neighbors = 7"
   ]
  },
  {
   "cell_type": "code",
   "execution_count": 42,
   "metadata": {},
   "outputs": [
    {
     "name": "stdout",
     "output_type": "stream",
     "text": [
      "Accuracy: 0.9652561247216036\n"
     ]
    }
   ],
   "source": [
    "model_knn = KNeighborsClassifier(n_neighbors=7)\n",
    "model_knn.fit(X_train_original,y_train_original)\n",
    "y_pred_knn = model_knn.predict(X_test_original)\n",
    "print(\"Accuracy:\",metrics.accuracy_score(y_test_original, y_pred_knn))"
   ]
  },
  {
   "cell_type": "markdown",
   "metadata": {},
   "source": [
    "### SVM"
   ]
  },
  {
   "cell_type": "code",
   "execution_count": 43,
   "metadata": {},
   "outputs": [],
   "source": [
    "from sklearn.svm import LinearSVC"
   ]
  },
  {
   "cell_type": "code",
   "execution_count": null,
   "metadata": {},
   "outputs": [],
   "source": [
    "# # # https://jamesrledoux.com/code/grid_search\n",
    "# model_params = {\n",
    "#     'C': [0.1,1,10,100,1000]\n",
    "# }"
   ]
  },
  {
   "cell_type": "code",
   "execution_count": null,
   "metadata": {},
   "outputs": [],
   "source": [
    "# svm_og = LinearSVC()"
   ]
  },
  {
   "cell_type": "code",
   "execution_count": null,
   "metadata": {},
   "outputs": [],
   "source": [
    "# clf = GridSearchCV(svm_og, model_params, cv=5)\n",
    "# model = clf.fit(X_train_original, y_train_original)"
   ]
  },
  {
   "cell_type": "code",
   "execution_count": null,
   "metadata": {},
   "outputs": [],
   "source": [
    "# model.best_params_"
   ]
  },
  {
   "cell_type": "code",
   "execution_count": 44,
   "metadata": {},
   "outputs": [
    {
     "name": "stdout",
     "output_type": "stream",
     "text": [
      "Accuracy: 0.965924276169265\n"
     ]
    },
    {
     "name": "stderr",
     "output_type": "stream",
     "text": [
      "/Users/clodaghlynch/opt/anaconda3/lib/python3.8/site-packages/sklearn/svm/_base.py:985: ConvergenceWarning: Liblinear failed to converge, increase the number of iterations.\n",
      "  warnings.warn(\"Liblinear failed to converge, increase \"\n"
     ]
    }
   ],
   "source": [
    "svm_og = LinearSVC(C = 1)\n",
    "svm_og.fit(X_train_original,y_train_original)\n",
    "y_pred=svm_og.predict(X_test_original)\n",
    "print(\"Accuracy:\",metrics.accuracy_score(y_test_original, y_pred))"
   ]
  },
  {
   "cell_type": "markdown",
   "metadata": {},
   "source": [
    "### Evaluation"
   ]
  },
  {
   "cell_type": "code",
   "execution_count": 50,
   "metadata": {},
   "outputs": [],
   "source": [
    "def evaluate_func(y_test, y_pred):\n",
    "    print(\"Confusion Matrix:\")\n",
    "    print(confusion_matrix(y_test,y_pred))\n",
    "    print(\"Classification Report:\")\n",
    "    print(classification_report(y_test,y_pred))\n",
    "    print(\"Accuracy score:\")\n",
    "    print(accuracy_score(y_test, y_pred))\n",
    "    print(\"F1 score:\")\n",
    "    print(f1_score(y_test, y_pred, average=\"binary\", pos_label=\"Fake\"))\n",
    "    print(\"Precision score:\")\n",
    "    print(precision_score(y_test, y_pred, average=\"binary\", pos_label=\"Fake\"))  \n",
    "    print(\"Recall score:\")\n",
    "    print(recall_score(y_test, y_pred, average=\"binary\", pos_label=\"Fake\"))"
   ]
  },
  {
   "cell_type": "markdown",
   "metadata": {},
   "source": [
    "#### Stratified Baseline Classifier"
   ]
  },
  {
   "cell_type": "code",
   "execution_count": 61,
   "metadata": {},
   "outputs": [
    {
     "name": "stdout",
     "output_type": "stream",
     "text": [
      "Confusion Matrix:\n",
      "[[2469 2201]\n",
      " [2192 2118]]\n",
      "Classification Report:\n",
      "              precision    recall  f1-score   support\n",
      "\n",
      "        Fake       0.53      0.53      0.53      4670\n",
      "        True       0.49      0.49      0.49      4310\n",
      "\n",
      "    accuracy                           0.51      8980\n",
      "   macro avg       0.51      0.51      0.51      8980\n",
      "weighted avg       0.51      0.51      0.51      8980\n",
      "\n",
      "Accuracy score:\n",
      "0.5108017817371938\n",
      "F1 score:\n",
      "0.5292037295038046\n",
      "Precision score:\n",
      "0.529714653507831\n",
      "Recall score:\n",
      "0.5286937901498929\n"
     ]
    },
    {
     "data": {
      "image/png": "[encoded data removed]",
      "text/plain": [
       "<Figure size 432x288 with 2 Axes>"
      ]
     },
     "metadata": {
      "needs_background": "light"
     },
     "output_type": "display_data"
    }
   ],
   "source": [
    "strat_model = DummyClassifier(strategy='stratified').fit(X_train_original, y_train_original)\n",
    "strat_pred = strat_model.predict(X_test_original)\n",
    "evaluate_func(y_test_original,strat_pred)\n",
    "plot_confusion_matrix(strat_model, X_test_original, y_test_original) \n",
    "plt.title(\"Stratified Baseline Classifier\")\n",
    "strat_probs = strat_model.predict_proba(X_test_original)[:,1]"
   ]
  },
  {
   "cell_type": "markdown",
   "metadata": {},
   "source": [
    "#### Most Frequent Baseline Classifier"
   ]
  },
  {
   "cell_type": "code",
   "execution_count": 62,
   "metadata": {},
   "outputs": [
    {
     "name": "stdout",
     "output_type": "stream",
     "text": [
      "Confusion Matrix:\n",
      "[[4670    0]\n",
      " [4310    0]]\n",
      "Classification Report:\n"
     ]
    },
    {
     "name": "stderr",
     "output_type": "stream",
     "text": [
      "/Users/clodaghlynch/opt/anaconda3/lib/python3.8/site-packages/sklearn/metrics/_classification.py:1245: UndefinedMetricWarning: Precision and F-score are ill-defined and being set to 0.0 in labels with no predicted samples. Use `zero_division` parameter to control this behavior.\n",
      "  _warn_prf(average, modifier, msg_start, len(result))\n",
      "/Users/clodaghlynch/opt/anaconda3/lib/python3.8/site-packages/sklearn/metrics/_classification.py:1245: UndefinedMetricWarning: Precision and F-score are ill-defined and being set to 0.0 in labels with no predicted samples. Use `zero_division` parameter to control this behavior.\n",
      "  _warn_prf(average, modifier, msg_start, len(result))\n",
      "/Users/clodaghlynch/opt/anaconda3/lib/python3.8/site-packages/sklearn/metrics/_classification.py:1245: UndefinedMetricWarning: Precision and F-score are ill-defined and being set to 0.0 in labels with no predicted samples. Use `zero_division` parameter to control this behavior.\n",
      "  _warn_prf(average, modifier, msg_start, len(result))\n"
     ]
    },
    {
     "name": "stdout",
     "output_type": "stream",
     "text": [
      "              precision    recall  f1-score   support\n",
      "\n",
      "        Fake       0.52      1.00      0.68      4670\n",
      "        True       0.00      0.00      0.00      4310\n",
      "\n",
      "    accuracy                           0.52      8980\n",
      "   macro avg       0.26      0.50      0.34      8980\n",
      "weighted avg       0.27      0.52      0.36      8980\n",
      "\n",
      "Accuracy score:\n",
      "0.5200445434298441\n",
      "F1 score:\n",
      "0.6842490842490841\n",
      "Precision score:\n",
      "0.5200445434298441\n",
      "Recall score:\n",
      "1.0\n"
     ]
    },
    {
     "data": {
      "image/png": "[encoded data removed]",
      "text/plain": [
       "<Figure size 432x288 with 2 Axes>"
      ]
     },
     "metadata": {
      "needs_background": "light"
     },
     "output_type": "display_data"
    }
   ],
   "source": [
    "freq_model = DummyClassifier(strategy='most_frequent').fit(X_train_original, y_train_original)\n",
    "freq_pred = freq_model.predict(X_test_original)\n",
    "evaluate_func(y_test_original,freq_pred)\n",
    "plot_confusion_matrix(freq_model, X_test_original, y_test_original)  \n",
    "plt.title(\"Most Frequent Baseline Classifier\")\n",
    "freq_probs = freq_model.predict_proba(X_test_original)[:,1]"
   ]
  },
  {
   "cell_type": "markdown",
   "metadata": {},
   "source": [
    "#### Random Forest"
   ]
  },
  {
   "cell_type": "code",
   "execution_count": 51,
   "metadata": {},
   "outputs": [
    {
     "name": "stdout",
     "output_type": "stream",
     "text": [
      "Confusion Matrix:\n",
      "[[4549  121]\n",
      " [ 103 4207]]\n",
      "Classification Report:\n",
      "              precision    recall  f1-score   support\n",
      "\n",
      "        Fake       0.98      0.97      0.98      4670\n",
      "        True       0.97      0.98      0.97      4310\n",
      "\n",
      "    accuracy                           0.98      8980\n",
      "   macro avg       0.97      0.98      0.98      8980\n",
      "weighted avg       0.98      0.98      0.98      8980\n",
      "\n",
      "Accuracy score:\n",
      "0.9750556792873051\n",
      "F1 score:\n",
      "0.9759708217120789\n",
      "Precision score:\n",
      "0.9778589853826312\n",
      "Recall score:\n",
      "0.9740899357601713\n"
     ]
    },
    {
     "data": {
      "image/png": "[encoded data removed]",
      "text/plain": [
       "<Figure size 432x288 with 2 Axes>"
      ]
     },
     "metadata": {
      "needs_background": "light"
     },
     "output_type": "display_data"
    }
   ],
   "source": [
    "evaluate_func(y_test_original,y_pred_original)\n",
    "plot_confusion_matrix(rf_original, X_test_original, y_test_original)  \n",
    "plt.title(\"Random Forest Classifier\")\n",
    "probs_rf = rf_original.predict_proba(X_test_original)[:,1]"
   ]
  },
  {
   "cell_type": "code",
   "execution_count": 59,
   "metadata": {},
   "outputs": [
    {
     "name": "stdout",
     "output_type": "stream",
     "text": [
      "Confusion Matrix:\n",
      "[[4436  234]\n",
      " [  78 4232]]\n",
      "Classification Report:\n",
      "              precision    recall  f1-score   support\n",
      "\n",
      "        Fake       0.98      0.95      0.97      4670\n",
      "        True       0.95      0.98      0.96      4310\n",
      "\n",
      "    accuracy                           0.97      8980\n",
      "   macro avg       0.97      0.97      0.97      8980\n",
      "weighted avg       0.97      0.97      0.97      8980\n",
      "\n",
      "Accuracy score:\n",
      "0.9652561247216036\n",
      "F1 score:\n",
      "0.9660278745644598\n",
      "Precision score:\n",
      "0.9827204253433761\n",
      "Recall score:\n",
      "0.9498929336188436\n"
     ]
    },
    {
     "data": {
      "image/png": "[encoded data removed]",
      "text/plain": [
       "<Figure size 432x288 with 2 Axes>"
      ]
     },
     "metadata": {
      "needs_background": "light"
     },
     "output_type": "display_data"
    }
   ],
   "source": [
    "evaluate_func(y_test_original,y_pred_knn)\n",
    "plot_confusion_matrix(model_knn, X_test_original, y_test_original)  \n",
    "plt.title(\"KNN Classifier\")\n",
    "probs_knn = model_knn.predict_proba(X_test_original)[:,1]"
   ]
  },
  {
   "cell_type": "code",
   "execution_count": 60,
   "metadata": {},
   "outputs": [
    {
     "name": "stdout",
     "output_type": "stream",
     "text": [
      "Confusion Matrix:\n",
      "[[4489  181]\n",
      " [ 125 4185]]\n",
      "Classification Report:\n",
      "              precision    recall  f1-score   support\n",
      "\n",
      "        Fake       0.97      0.96      0.97      4670\n",
      "        True       0.96      0.97      0.96      4310\n",
      "\n",
      "    accuracy                           0.97      8980\n",
      "   macro avg       0.97      0.97      0.97      8980\n",
      "weighted avg       0.97      0.97      0.97      8980\n",
      "\n",
      "Accuracy score:\n",
      "0.965924276169265\n",
      "F1 score:\n",
      "0.9670400689358035\n",
      "Precision score:\n",
      "0.9729085392284352\n",
      "Recall score:\n",
      "0.9612419700214133\n"
     ]
    },
    {
     "data": {
      "image/png": "[encoded data removed]",
      "text/plain": [
       "<Figure size 432x288 with 2 Axes>"
      ]
     },
     "metadata": {
      "needs_background": "light"
     },
     "output_type": "display_data"
    }
   ],
   "source": [
    "evaluate_func(y_test_original,y_pred)\n",
    "plot_confusion_matrix(svm_og, X_test_original, y_test_original)  \n",
    "plt.title(\"SVM Classifier\")\n",
    "probs_svm = svm_og._predict_proba_lr(X_test_original)[:,1]"
   ]
  },
  {
   "cell_type": "markdown",
   "metadata": {},
   "source": [
    "### ROC curve"
   ]
  },
  {
   "cell_type": "code",
   "execution_count": 57,
   "metadata": {},
   "outputs": [],
   "source": [
    "def roc_curve_func(ytest, probs_base, probs_freq, probs_rf, probs_knn, probs_svm):\n",
    "    fpr_rf, tpr_rf, _ = roc_curve(ytest,probs_rf, pos_label=\"True\")\n",
    "    roc_auc_rf = auc(fpr_rf, tpr_rf)\n",
    "    print(roc_auc_rf)\n",
    "    \n",
    "    fpr_knn, tpr_knn, _ = roc_curve(ytest,probs_knn, pos_label=\"True\")\n",
    "    roc_auc_knn = auc(fpr_knn, tpr_knn)\n",
    "    print(roc_auc_knn)\n",
    "    \n",
    "    fpr_svm, tpr_svm, _ = roc_curve(ytest,probs_svm, pos_label=\"True\")\n",
    "    roc_auc_svm = auc(fpr_svm, tpr_svm)\n",
    "    print(roc_auc_svm)\n",
    "    \n",
    "    fpr_strat, tpr_strat, _ = roc_curve(ytest,probs_base,pos_label=\"True\")\n",
    "    roc_auc_base = auc(fpr_strat, tpr_strat)\n",
    "    print(roc_auc_base)\n",
    "    \n",
    "    fpr_freq, tpr_freq, _ = roc_curve(ytest,probs_freq,pos_label=\"True\")\n",
    "    roc_auc_freq = auc(fpr_freq, tpr_freq)\n",
    "    print(roc_auc_freq)\n",
    "    \n",
    "    plt.rc('font', size=12) \n",
    "    plt.rcParams['figure.constrained_layout.use'] = True \n",
    "    fig= plt.figure(figsize=(9,6))\n",
    "    plt.plot(fpr_rf,tpr_rf)\n",
    "    plt.plot(fpr_knn,tpr_knn)\n",
    "    plt.plot(fpr_svm,tpr_svm)\n",
    "    plt.plot(fpr_strat,tpr_strat, color='yellow',linestyle='--')\n",
    "    plt.plot(fpr_freq,tpr_freq, color = 'black',linestyle='--')\n",
    "    plt.xlabel(\"False Positive Rate\")\n",
    "    plt.ylabel(\"True Positive Rate\")\n",
    "    plt.title(\"ROC Curves for Classification Models\")\n",
    "    plt.legend([\"RF\", \"kNN\", \"SVM\", \"Stratified Baseline\", \"Most Freq Baseline\"], bbox_to_anchor=(1.05, 1), loc='upper left', ncol=1, fontsize=10)\n",
    "    plt.show()"
   ]
  },
  {
   "cell_type": "code",
   "execution_count": 58,
   "metadata": {
    "scrolled": false
   },
   "outputs": [
    {
     "name": "stdout",
     "output_type": "stream",
     "text": [
      "0.9959225346164737\n",
      "0.9891169880314193\n",
      "0.9951241820973087\n",
      "0.50266597773218\n",
      "0.5\n"
     ]
    },
    {
     "data": {
      "image/png": "[encoded data removed]",
      "text/plain": [
       "<Figure size 648x432 with 1 Axes>"
      ]
     },
     "metadata": {
      "needs_background": "light"
     },
     "output_type": "display_data"
    }
   ],
   "source": [
    "roc_curve_func(y_test_original, strat_probs, freq_probs, probs_rf, probs_knn, probs_svm)"
   ]
  },
  {
   "cell_type": "markdown",
   "metadata": {},
   "source": [
    "# HYPOTHESIS 2"
   ]
  },
  {
   "cell_type": "code",
   "execution_count": 64,
   "metadata": {},
   "outputs": [],
   "source": [
    "# for i in range(0,37)\n",
    "X_new = new.iloc[:, : 38]"
   ]
  },
  {
   "cell_type": "code",
   "execution_count": 65,
   "metadata": {},
   "outputs": [
    {
     "data": {
      "text/html": [
       "<div>\n",
       "<style scoped>\n",
       "    .dataframe tbody tr th:only-of-type {\n",
       "        vertical-align: middle;\n",
       "    }\n",
       "\n",
       "    .dataframe tbody tr th {\n",
       "        vertical-align: top;\n",
       "    }\n",
       "\n",
       "    .dataframe thead th {\n",
       "        text-align: right;\n",
       "    }\n",
       "</style>\n",
       "<table border=\"1\" class=\"dataframe\">\n",
       "  <thead>\n",
       "    <tr style=\"text-align: right;\">\n",
       "      <th></th>\n",
       "      <th>VBD</th>\n",
       "      <th>VBZ</th>\n",
       "      <th>WDT</th>\n",
       "      <th>DT</th>\n",
       "      <th>CC</th>\n",
       "      <th>POS</th>\n",
       "      <th>RB</th>\n",
       "      <th>PRP</th>\n",
       "      <th>WRB</th>\n",
       "      <th>,</th>\n",
       "      <th>...</th>\n",
       "      <th>WP</th>\n",
       "      <th>TO</th>\n",
       "      <th>VBP</th>\n",
       "      <th>RBR</th>\n",
       "      <th>NNPS</th>\n",
       "      <th>VBN</th>\n",
       "      <th>JJ</th>\n",
       "      <th>VB</th>\n",
       "      <th>FW</th>\n",
       "      <th>Syntax</th>\n",
       "    </tr>\n",
       "  </thead>\n",
       "  <tbody>\n",
       "    <tr>\n",
       "      <th>0</th>\n",
       "      <td>0</td>\n",
       "      <td>0</td>\n",
       "      <td>0</td>\n",
       "      <td>0</td>\n",
       "      <td>0</td>\n",
       "      <td>0</td>\n",
       "      <td>0</td>\n",
       "      <td>0</td>\n",
       "      <td>0</td>\n",
       "      <td>0</td>\n",
       "      <td>...</td>\n",
       "      <td>0</td>\n",
       "      <td>0</td>\n",
       "      <td>1</td>\n",
       "      <td>0</td>\n",
       "      <td>1</td>\n",
       "      <td>0</td>\n",
       "      <td>1</td>\n",
       "      <td>0</td>\n",
       "      <td>0</td>\n",
       "      <td>1745</td>\n",
       "    </tr>\n",
       "    <tr>\n",
       "      <th>1</th>\n",
       "      <td>0</td>\n",
       "      <td>0</td>\n",
       "      <td>0</td>\n",
       "      <td>0</td>\n",
       "      <td>0</td>\n",
       "      <td>0</td>\n",
       "      <td>0</td>\n",
       "      <td>0</td>\n",
       "      <td>0</td>\n",
       "      <td>0</td>\n",
       "      <td>...</td>\n",
       "      <td>0</td>\n",
       "      <td>1</td>\n",
       "      <td>0</td>\n",
       "      <td>0</td>\n",
       "      <td>0</td>\n",
       "      <td>0</td>\n",
       "      <td>1</td>\n",
       "      <td>1</td>\n",
       "      <td>0</td>\n",
       "      <td>9176</td>\n",
       "    </tr>\n",
       "    <tr>\n",
       "      <th>2</th>\n",
       "      <td>0</td>\n",
       "      <td>0</td>\n",
       "      <td>0</td>\n",
       "      <td>0</td>\n",
       "      <td>0</td>\n",
       "      <td>1</td>\n",
       "      <td>0</td>\n",
       "      <td>0</td>\n",
       "      <td>0</td>\n",
       "      <td>0</td>\n",
       "      <td>...</td>\n",
       "      <td>0</td>\n",
       "      <td>0</td>\n",
       "      <td>0</td>\n",
       "      <td>0</td>\n",
       "      <td>0</td>\n",
       "      <td>0</td>\n",
       "      <td>1</td>\n",
       "      <td>1</td>\n",
       "      <td>0</td>\n",
       "      <td>3856</td>\n",
       "    </tr>\n",
       "    <tr>\n",
       "      <th>3</th>\n",
       "      <td>1</td>\n",
       "      <td>0</td>\n",
       "      <td>0</td>\n",
       "      <td>0</td>\n",
       "      <td>0</td>\n",
       "      <td>0</td>\n",
       "      <td>0</td>\n",
       "      <td>0</td>\n",
       "      <td>0</td>\n",
       "      <td>0</td>\n",
       "      <td>...</td>\n",
       "      <td>0</td>\n",
       "      <td>0</td>\n",
       "      <td>0</td>\n",
       "      <td>0</td>\n",
       "      <td>0</td>\n",
       "      <td>0</td>\n",
       "      <td>2</td>\n",
       "      <td>0</td>\n",
       "      <td>0</td>\n",
       "      <td>13660</td>\n",
       "    </tr>\n",
       "    <tr>\n",
       "      <th>4</th>\n",
       "      <td>0</td>\n",
       "      <td>1</td>\n",
       "      <td>0</td>\n",
       "      <td>0</td>\n",
       "      <td>0</td>\n",
       "      <td>0</td>\n",
       "      <td>0</td>\n",
       "      <td>0</td>\n",
       "      <td>0</td>\n",
       "      <td>0</td>\n",
       "      <td>...</td>\n",
       "      <td>0</td>\n",
       "      <td>1</td>\n",
       "      <td>0</td>\n",
       "      <td>0</td>\n",
       "      <td>0</td>\n",
       "      <td>0</td>\n",
       "      <td>1</td>\n",
       "      <td>1</td>\n",
       "      <td>0</td>\n",
       "      <td>7795</td>\n",
       "    </tr>\n",
       "  </tbody>\n",
       "</table>\n",
       "<p>5 rows × 38 columns</p>\n",
       "</div>"
      ],
      "text/plain": [
       "   VBD  VBZ  WDT  DT  CC  POS  RB  PRP  WRB  ,  ...  WP  TO  VBP  RBR  NNPS  \\\n",
       "0    0    0    0   0   0    0   0    0    0  0  ...   0   0    1    0     1   \n",
       "1    0    0    0   0   0    0   0    0    0  0  ...   0   1    0    0     0   \n",
       "2    0    0    0   0   0    1   0    0    0  0  ...   0   0    0    0     0   \n",
       "3    1    0    0   0   0    0   0    0    0  0  ...   0   0    0    0     0   \n",
       "4    0    1    0   0   0    0   0    0    0  0  ...   0   1    0    0     0   \n",
       "\n",
       "   VBN  JJ  VB  FW  Syntax  \n",
       "0    0   1   0   0    1745  \n",
       "1    0   1   1   0    9176  \n",
       "2    0   1   1   0    3856  \n",
       "3    0   2   0   0   13660  \n",
       "4    0   1   1   0    7795  \n",
       "\n",
       "[5 rows x 38 columns]"
      ]
     },
     "execution_count": 65,
     "metadata": {},
     "output_type": "execute_result"
    }
   ],
   "source": [
    "X_new.head()"
   ]
  },
  {
   "cell_type": "code",
   "execution_count": 66,
   "metadata": {},
   "outputs": [],
   "source": [
    "y_new = new.iloc[:,38].values"
   ]
  },
  {
   "cell_type": "code",
   "execution_count": 67,
   "metadata": {},
   "outputs": [
    {
     "data": {
      "text/plain": [
       "array(['True', 'True', 'True', ..., 'Fake', 'Fake', 'Fake'], dtype=object)"
      ]
     },
     "execution_count": 67,
     "metadata": {},
     "output_type": "execute_result"
    }
   ],
   "source": [
    "y_new"
   ]
  },
  {
   "cell_type": "code",
   "execution_count": 68,
   "metadata": {},
   "outputs": [],
   "source": [
    "X_train_new, X_test_new, y_train_new, y_test_new = data_split_func(X_new,y_new)"
   ]
  },
  {
   "cell_type": "code",
   "execution_count": 69,
   "metadata": {},
   "outputs": [
    {
     "name": "stdout",
     "output_type": "stream",
     "text": [
      "Accuracy: 0.977728285077951\n"
     ]
    }
   ],
   "source": [
    "rf_new=RandomForestClassifier(n_estimators=250, max_features='sqrt', min_samples_split=2)\n",
    "rf_new.fit(X_train_new,y_train_new)\n",
    "y_pred_new=rf_new.predict(X_test_new)\n",
    "print(\"Accuracy:\",metrics.accuracy_score(y_test_new, y_pred_new))"
   ]
  },
  {
   "cell_type": "code",
   "execution_count": 72,
   "metadata": {},
   "outputs": [
    {
     "name": "stdout",
     "output_type": "stream",
     "text": [
      "Accuracy: 0.9233853006681515\n"
     ]
    }
   ],
   "source": [
    "knn_new = KNeighborsClassifier(n_neighbors=7)\n",
    "knn_new.fit(X_train_new,y_train_new)\n",
    "y_pred_knn_new = knn_new.predict(X_test_new)\n",
    "print(\"Accuracy:\",metrics.accuracy_score(y_test_new, y_pred_knn_new))"
   ]
  },
  {
   "cell_type": "code",
   "execution_count": 73,
   "metadata": {},
   "outputs": [
    {
     "name": "stdout",
     "output_type": "stream",
     "text": [
      "Accuracy: 0.9143652561247216\n"
     ]
    },
    {
     "name": "stderr",
     "output_type": "stream",
     "text": [
      "/Users/clodaghlynch/opt/anaconda3/lib/python3.8/site-packages/sklearn/svm/_base.py:985: ConvergenceWarning: Liblinear failed to converge, increase the number of iterations.\n",
      "  warnings.warn(\"Liblinear failed to converge, increase \"\n"
     ]
    }
   ],
   "source": [
    "svm_new = LinearSVC(C = 1)\n",
    "svm_new.fit(X_train_new,y_train_new)\n",
    "y_pred_svm_new=svm_new.predict(X_test_new)\n",
    "print(\"Accuracy:\",metrics.accuracy_score(y_test_new, y_pred_svm_new))"
   ]
  },
  {
   "cell_type": "markdown",
   "metadata": {},
   "source": [
    "## Statistical Difference"
   ]
  },
  {
   "cell_type": "code",
   "execution_count": 74,
   "metadata": {},
   "outputs": [],
   "source": [
    "from numpy import mean\n",
    "from numpy import std\n",
    "from sklearn.model_selection import cross_val_score\n",
    "from sklearn.model_selection import RepeatedStratifiedKFold"
   ]
  },
  {
   "cell_type": "markdown",
   "metadata": {},
   "source": [
    "### RF"
   ]
  },
  {
   "cell_type": "code",
   "execution_count": 75,
   "metadata": {},
   "outputs": [
    {
     "name": "stdout",
     "output_type": "stream",
     "text": [
      "RF Cross Val Mean Accuracy: 0.975 (0.002)\n"
     ]
    }
   ],
   "source": [
    "# evaluate model 1\n",
    "cv1 = RepeatedStratifiedKFold(n_splits=5, n_repeats=3, random_state=1)\n",
    "scores1 = cross_val_score(rf_original, X_original, y_original, scoring='accuracy', cv=cv1, n_jobs=-1)\n",
    "print('RF Cross Val Mean Accuracy: %.3f (%.3f)' % (mean(scores1), std(scores1)))"
   ]
  },
  {
   "cell_type": "code",
   "execution_count": 76,
   "metadata": {},
   "outputs": [
    {
     "name": "stdout",
     "output_type": "stream",
     "text": [
      "RF Cross Val Mean Accuracy: 0.978 (0.001)\n"
     ]
    }
   ],
   "source": [
    "# evaluate model 2=\n",
    "# cv2 = RepeatedStratifiedKFold(n_splits=5, n_repeats=3, random_state=1)\n",
    "scores2 = cross_val_score(rf_new, X_new, y_new, scoring='accuracy', cv=cv1, n_jobs=-1)\n",
    "print('RF Cross Val Mean Accuracy: %.3f (%.3f)' % (mean(scores2), std(scores2)))"
   ]
  },
  {
   "cell_type": "code",
   "execution_count": 80,
   "metadata": {},
   "outputs": [
    {
     "name": "stdout",
     "output_type": "stream",
     "text": [
      "Model 1 mean value: 0.9752178939673889\n",
      "Model 2 mean value: 0.9784029046410609\n",
      "Model 1 std value: 0.0015479228897418535\n",
      "Model 2 std value: 0.0014023329070708868\n",
      "p-value 4.052795969316894e-06\n",
      "we reject null hypothesis\n"
     ]
    }
   ],
   "source": [
    "from scipy.stats import ttest_ind\n",
    "import numpy as np\n",
    "\n",
    "print(\"Model 1 mean value:\",mean(scores1))\n",
    "print(\"Model 2 mean value:\",mean(scores2))\n",
    "\n",
    "print(\"Model 1 std value:\",std(scores1))\n",
    "print(\"Model 2 std value:\",std(scores2))\n",
    "\n",
    "ttest,pval = ttest_ind(scores1,scores2)\n",
    "\n",
    "print(\"p-value\",pval)\n",
    "\n",
    "if pval <= 0.05:\n",
    "    print(\"we reject null hypothesis\")\n",
    "else:\n",
    "    print(\"we accept null hypothesis\")"
   ]
  },
  {
   "cell_type": "markdown",
   "metadata": {},
   "source": [
    "### kNN"
   ]
  },
  {
   "cell_type": "code",
   "execution_count": 78,
   "metadata": {},
   "outputs": [
    {
     "name": "stdout",
     "output_type": "stream",
     "text": [
      "RF Cross Val Mean Accuracy: 0.965 (0.002)\n"
     ]
    }
   ],
   "source": [
    "# evaluate model 1\n",
    "# cv1 = RepeatedStratifiedKFold(n_splits=5, n_repeats=3, random_state=1)\n",
    "scores1_knn = cross_val_score(model_knn, X_original, y_original, scoring='accuracy', cv=cv1, n_jobs=-1)\n",
    "print('kNN Cross Val Mean Accuracy: %.3f (%.3f)' % (mean(scores1_knn), std(scores1_knn)))"
   ]
  },
  {
   "cell_type": "code",
   "execution_count": 79,
   "metadata": {},
   "outputs": [
    {
     "name": "stdout",
     "output_type": "stream",
     "text": [
      "kNN Cross Val Mean Accuracy: 0.920 (0.002)\n"
     ]
    }
   ],
   "source": [
    "# evaluate model 2=\n",
    "# cv2 = RepeatedStratifiedKFold(n_splits=5, n_repeats=3, random_state=1)\n",
    "scores2_knn = cross_val_score(knn_new, X_new, y_new, scoring='accuracy', cv=cv1, n_jobs=-1)\n",
    "print('kNN Cross Val Mean Accuracy: %.3f (%.3f)' % (mean(scores2_knn), std(scores2_knn)))"
   ]
  },
  {
   "cell_type": "code",
   "execution_count": 87,
   "metadata": {},
   "outputs": [
    {
     "name": "stdout",
     "output_type": "stream",
     "text": [
      "Model _knn 1 mean value: 0.9650986674921512\n",
      "Model _knn 2 mean value: 0.9204048297797558\n",
      "Model _knn 1 std value: 0.00207813803869792\n",
      "Model _knn 2 std value: 0.0022806879796229596\n",
      "p-value 6.718207898915316e-30\n",
      "we reject null hypothesis\n"
     ]
    }
   ],
   "source": [
    "from scipy.stats import ttest_ind\n",
    "import numpy as np\n",
    "print(\"Model _knn 1 mean value:\",mean(scores1_knn))\n",
    "print(\"Model _knn 2 mean value:\",mean(scores2_knn))\n",
    "print(\"Model _knn 1 std value:\",std(scores1_knn))\n",
    "print(\"Model _knn 2 std value:\",std(scores2_knn))\n",
    "ttest,pval = ttest_ind(scores1_knn,scores2_knn)\n",
    "print(\"p-value\",pval)\n",
    "if pval <= 0.05:\n",
    "    print(\"we reject null hypothesis\")\n",
    "else:\n",
    "    print(\"we accept null hypothesis\")"
   ]
  },
  {
   "cell_type": "markdown",
   "metadata": {},
   "source": [
    "### SVM"
   ]
  },
  {
   "cell_type": "code",
   "execution_count": 82,
   "metadata": {},
   "outputs": [
    {
     "name": "stdout",
     "output_type": "stream",
     "text": [
      "SVM Cross Val Mean Accuracy: 0.969 (0.002)\n"
     ]
    }
   ],
   "source": [
    "# evaluate model 1\n",
    "# cv1 = RepeatedStratifiedKFold(n_splits=5, n_repeats=3, random_state=1)\n",
    "scores1_svm = cross_val_score(svm_og, X_original, y_original, scoring='accuracy', cv=cv1, n_jobs=-1)\n",
    "print('SVM Cross Val Mean Accuracy: %.3f (%.3f)' % (mean(scores1_svm), std(scores1_svm)))"
   ]
  },
  {
   "cell_type": "code",
   "execution_count": 83,
   "metadata": {},
   "outputs": [
    {
     "name": "stdout",
     "output_type": "stream",
     "text": [
      "SVM Cross Val Mean Accuracy: 0.849 (0.116)\n"
     ]
    }
   ],
   "source": [
    "# evaluate model 2=\n",
    "# cv2 = RepeatedStratifiedKFold(n_splits=5, n_repeats=3, random_state=1)\n",
    "scores2_svm = cross_val_score(svm_new, X_new, y_new, scoring='accuracy', cv=cv1, n_jobs=-1)\n",
    "print('SVM Cross Val Mean Accuracy: %.3f (%.3f)' % (mean(scores2_svm), std(scores2_svm)))"
   ]
  },
  {
   "cell_type": "code",
   "execution_count": 85,
   "metadata": {},
   "outputs": [
    {
     "name": "stdout",
     "output_type": "stream",
     "text": [
      "Model _knn 1 mean value: 0.969078049226964\n",
      "Model _knn 2 mean value: 0.8493685521930119\n",
      "Model _knn 1 std value: 0.0016193912939637875\n",
      "Model _knn 2 std value: 0.11571485692912006\n",
      "p-value 0.0005940964511840209\n",
      "we reject null hypothesis\n"
     ]
    }
   ],
   "source": [
    "from scipy.stats import ttest_ind\n",
    "import numpy as np\n",
    "print(\"Model _knn 1 mean value:\",mean(scores1_svm))\n",
    "print(\"Model _knn 2 mean value:\",mean(scores2_svm))\n",
    "print(\"Model _knn 1 std value:\",std(scores1_svm))\n",
    "print(\"Model _knn 2 std value:\",std(scores2_svm))\n",
    "ttest,pval = ttest_ind(scores1_svm,scores2_svm)\n",
    "print(\"p-value\",pval)\n",
    "if pval < 0.05:\n",
    "    print(\"we reject null hypothesis\")\n",
    "else:\n",
    "    print(\"we accept null hypothesis\")"
   ]
  }
 ],
 "metadata": {
  "kernelspec": {
   "display_name": "Python 3",
   "language": "python",
   "name": "python3"
  },
  "language_info": {
   "codemirror_mode": {
    "name": "ipython",
    "version": 3
   },
   "file_extension": ".py",
   "mimetype": "text/x-python",
   "name": "python",
   "nbconvert_exporter": "python",
   "pygments_lexer": "ipython3",
   "version": "3.8.3"
  }
 },
 "nbformat": 4,
 "nbformat_minor": 4
}
